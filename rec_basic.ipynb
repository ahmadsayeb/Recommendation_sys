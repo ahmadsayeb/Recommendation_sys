{
 "cells": [
  {
   "cell_type": "code",
   "execution_count": 166,
   "metadata": {},
   "outputs": [],
   "source": [
    "import pandas as pd\n",
    "import scipy.sparse as sp\n",
    "from sklearn.feature_extraction.text import CountVectorizer, TfidfVectorizer\n",
    "from sklearn.metrics.pairwise import cosine_similarity\n",
    "\n",
    "def get_data():\n",
    "    movie_data = pd.read_csv('data/final_data.csv')\n",
    "    movie_data['original_title'] = movie_data['original_title'].str.lower()\n",
    "    movie_data.rename(columns={'overview':'plot'})\n",
    "    return movie_data"
   ]
  },
  {
   "cell_type": "code",
   "execution_count": 167,
   "metadata": {},
   "outputs": [],
   "source": [
    "def get_data():\n",
    "    movie_data = pd.read_csv('data/final_data.csv')\n",
    "    movie_data['original_title'] = movie_data['original_title'].str.lower()\n",
    "    movie_data.rename(columns={'overview':'plot'})\n",
    "    return movie_data"
   ]
  },
  {
   "cell_type": "code",
   "execution_count": 180,
   "metadata": {},
   "outputs": [],
   "source": [
    "def combine_data(data):\n",
    "    data_recommend = data.drop(columns=['id', 'original_title','overview'])\n",
    "    data_recommend['combine'] = data_recommend[data_recommend.columns[0:2]].apply(\n",
    "                                                                         lambda x: ','.join(x.dropna().astype(str)),axis=1)\n",
    "    data_recommend = data_recommend.drop(columns=[ 'cast','genres'])\n",
    "    return data_recommend"
   ]
  },
  {
   "cell_type": "code",
   "execution_count": 169,
   "metadata": {},
   "outputs": [],
   "source": [
    "def transform_data(df,data_plot):\n",
    "    count = CountVectorizer(stop_words='english')\n",
    "    count_matrix = count.fit_transform(df['combine'])\n",
    "    \n",
    "    tfidf = TfidfVectorizer(stop_words='english')\n",
    "    tfidf_matrix = tfidf.fit_transform(data_plot['overview'])\n",
    "    \n",
    "    combine_sparse = sp.hstack([count_matrix,tfidf_matrix],format='csr')\n",
    "    cosine_sim = cosine_similarity(combine_sparse,combine_sparse)\n",
    "    \n",
    "    return cosine_sim"
   ]
  },
  {
   "cell_type": "code",
   "execution_count": 176,
   "metadata": {},
   "outputs": [],
   "source": [
    "def recommend_movies(title, data, df, transform):\n",
    "    indices = pd.Series(data.index, index=data['original_title'])\n",
    "    index = indices[title]\n",
    "    \n",
    "    sim_scores = list(enumerate(transform[index]))\n",
    "    sim_scores = sorted(sim_scores, key=lambda x:x[1],reverse=True)\n",
    "    sim_scores = sim_scores[1:21]\n",
    "    \n",
    "    movie_indices = [i[0] for i in sim_scores]\n",
    "    \n",
    "    movie_id = data['id'].iloc[movie_indices]\n",
    "    movie_title = data['original_title'].iloc[movie_indices]\n",
    "    movie_genres = data['genres'].iloc[movie_indices]\n",
    "    \n",
    "    recommendation_data = pd.DataFrame(columns=['Movie_Id','Name','Genres'])\n",
    "    \n",
    "    recommendation_data['Movie_Id'] = movie_id\n",
    "    recommendation_data['Name'] = movie_title\n",
    "    recommendation_data['Genres'] = movie_genres\n",
    "    \n",
    "    return recommendation_data"
   ]
  },
  {
   "cell_type": "code",
   "execution_count": 177,
   "metadata": {},
   "outputs": [],
   "source": [
    "def results(movie_name):\n",
    "    movie_name = movie_name.lower()\n",
    "    \n",
    "    find_movie = get_data()\n",
    "    combine_result = combine_data(find_movie)\n",
    "    transform_result = transform_data(combine_result,find_movie)\n",
    "    \n",
    "    if movie_name not in find_movie['original_title'].unique():\n",
    "        return 'Movie not in Database'\n",
    "    \n",
    "    else:\n",
    "        recommendations = recommend_movies(movie_name, find_movie, combine_result, transform_result)\n",
    "        return recommendations.to_dict('records')"
   ]
  }
 ],
 "metadata": {
  "kernelspec": {
   "display_name": "bootcamp",
   "language": "python",
   "name": "bootcamp"
  },
  "language_info": {
   "codemirror_mode": {
    "name": "ipython",
    "version": 3
   },
   "file_extension": ".py",
   "mimetype": "text/x-python",
   "name": "python",
   "nbconvert_exporter": "python",
   "pygments_lexer": "ipython3",
   "version": "3.8.5"
  }
 },
 "nbformat": 4,
 "nbformat_minor": 4
}
