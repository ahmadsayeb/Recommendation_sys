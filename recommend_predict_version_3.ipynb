{
  "nbformat": 4,
  "nbformat_minor": 0,
  "metadata": {
    "colab": {
      "name": "recommend_predict_version_3.ipynb",
      "provenance": [],
      "collapsed_sections": []
    },
    "kernelspec": {
      "name": "python3",
      "display_name": "Python 3"
    }
  },
  "cells": [
    {
      "cell_type": "code",
      "metadata": {
        "colab": {
          "base_uri": "https://localhost:8080/"
        },
        "id": "UpjNUT2XFOtd",
        "outputId": "be00e24b-e9fc-48cb-a4b3-acbbd80ea797"
      },
      "source": [
        "!pip install surprise"
      ],
      "execution_count": 1,
      "outputs": [
        {
          "output_type": "stream",
          "text": [
            "Collecting surprise\n",
            "  Downloading https://files.pythonhosted.org/packages/61/de/e5cba8682201fcf9c3719a6fdda95693468ed061945493dea2dd37c5618b/surprise-0.1-py2.py3-none-any.whl\n",
            "Collecting scikit-surprise\n",
            "\u001b[?25l  Downloading https://files.pythonhosted.org/packages/97/37/5d334adaf5ddd65da99fc65f6507e0e4599d092ba048f4302fe8775619e8/scikit-surprise-1.1.1.tar.gz (11.8MB)\n",
            "\u001b[K     |████████████████████████████████| 11.8MB 5.3MB/s \n",
            "\u001b[?25hRequirement already satisfied: joblib>=0.11 in /usr/local/lib/python3.6/dist-packages (from scikit-surprise->surprise) (0.17.0)\n",
            "Requirement already satisfied: numpy>=1.11.2 in /usr/local/lib/python3.6/dist-packages (from scikit-surprise->surprise) (1.18.5)\n",
            "Requirement already satisfied: scipy>=1.0.0 in /usr/local/lib/python3.6/dist-packages (from scikit-surprise->surprise) (1.4.1)\n",
            "Requirement already satisfied: six>=1.10.0 in /usr/local/lib/python3.6/dist-packages (from scikit-surprise->surprise) (1.15.0)\n",
            "Building wheels for collected packages: scikit-surprise\n",
            "  Building wheel for scikit-surprise (setup.py) ... \u001b[?25l\u001b[?25hdone\n",
            "  Created wheel for scikit-surprise: filename=scikit_surprise-1.1.1-cp36-cp36m-linux_x86_64.whl size=1670908 sha256=8c5f752a0ed5f72ecfec9da7812347f1175d93cb2172b102b935985ffefd1270\n",
            "  Stored in directory: /root/.cache/pip/wheels/78/9c/3d/41b419c9d2aff5b6e2b4c0fc8d25c538202834058f9ed110d0\n",
            "Successfully built scikit-surprise\n",
            "Installing collected packages: scikit-surprise, surprise\n",
            "Successfully installed scikit-surprise-1.1.1 surprise-0.1\n"
          ],
          "name": "stdout"
        }
      ]
    },
    {
      "cell_type": "code",
      "metadata": {
        "id": "gzvXMizBFUde"
      },
      "source": [
        "import pandas as pd\n",
        "import numpy as np\n",
        "import matplotlib.pyplot as plt\n",
        "import seaborn as sns\n",
        "import surprise\n",
        "from surprise import SVD\n",
        "from surprise import accuracy\n",
        "from surprise import KNNBasic, KNNWithMeans, KNNBaseline\n",
        "from surprise import Reader\n",
        "from surprise.model_selection import train_test_split\n",
        "from surprise import  Dataset\n",
        "from surprise.model_selection import cross_validate,GridSearchCV\n",
        "import re\n",
        "import random \n",
        "import requests"
      ],
      "execution_count": 2,
      "outputs": []
    },
    {
      "cell_type": "code",
      "metadata": {
        "id": "0oWnD0erFVp2"
      },
      "source": [
        "movie_df = pd.read_csv('/content/drive/MyDrive/Colab Notebooks/movie_lens/movie.csv')\n",
        "rating_df = pd.read_csv('/content/drive/MyDrive/Colab Notebooks/movie_lens/rating.csv')\n",
        "link_df = pd.read_csv('/content/drive/MyDrive/Colab Notebooks/movie_lens/link.csv')\n",
        "tag_df = pd.read_csv('/content/drive/MyDrive/Colab Notebooks/movie_lens/tag.csv')\n",
        "genome_tags_df = pd.read_csv('/content/drive/MyDrive/Colab Notebooks/movie_lens/genome_tags.csv')\n",
        "genome_scores_df = pd.read_csv('/content/drive/MyDrive/Colab Notebooks/movie_lens/genome_scores.csv')"
      ],
      "execution_count": 3,
      "outputs": []
    },
    {
      "cell_type": "code",
      "metadata": {
        "id": "0p3Bdm9PIT79"
      },
      "source": [
        "combined_small = pd.read_csv('/content/drive/MyDrive/Colab Notebooks/movie_lens/combined_small_v2.csv')"
      ],
      "execution_count": 4,
      "outputs": []
    },
    {
      "cell_type": "code",
      "metadata": {
        "id": "Jy8wUxVuFn0L"
      },
      "source": [
        "model = surprise.dump.load('/content/drive/MyDrive/Colab Notebooks/movie_lens/my_model_v3')\n",
        "predictions = model[0]"
      ],
      "execution_count": 5,
      "outputs": []
    },
    {
      "cell_type": "code",
      "metadata": {
        "colab": {
          "base_uri": "https://localhost:8080/"
        },
        "id": "9MknPaQIFpqD",
        "outputId": "770331cf-9e6b-449d-d8af-2fc8b6ff9a47"
      },
      "source": [
        "# check the accuracy using Root Mean Square Error\n",
        "accuracy.rmse(predictions)"
      ],
      "execution_count": 6,
      "outputs": [
        {
          "output_type": "stream",
          "text": [
            "RMSE: 0.9801\n"
          ],
          "name": "stdout"
        },
        {
          "output_type": "execute_result",
          "data": {
            "text/plain": [
              "0.9800557814867045"
            ]
          },
          "metadata": {
            "tags": []
          },
          "execution_count": 6
        }
      ]
    },
    {
      "cell_type": "code",
      "metadata": {
        "id": "43Xd7-FZG5aH"
      },
      "source": [
        "def string_preprocess(row):\n",
        "  text = row\n",
        "  text = str(text)\n",
        "  text = re.sub(r'\\(\\d+\\)', '', text)\n",
        "  text = text.lower()\n",
        "  return text"
      ],
      "execution_count": 7,
      "outputs": []
    },
    {
      "cell_type": "code",
      "metadata": {
        "id": "soM2HitTGhxK"
      },
      "source": [
        "#movie_rating cropped\n",
        "movie_rating_combined = pd.merge(movie_df,rating_df,on='movieId')\n",
        "movie_info_small = movie_rating_combined"
      ],
      "execution_count": 16,
      "outputs": []
    },
    {
      "cell_type": "code",
      "metadata": {
        "colab": {
          "base_uri": "https://localhost:8080/",
          "height": 407
        },
        "id": "2ZCzQ5LmFruv",
        "outputId": "5d00be77-6e3f-48a2-af7a-5fd2830f0210"
      },
      "source": [
        "movie_info_small"
      ],
      "execution_count": 21,
      "outputs": [
        {
          "output_type": "execute_result",
          "data": {
            "text/html": [
              "<div>\n",
              "<style scoped>\n",
              "    .dataframe tbody tr th:only-of-type {\n",
              "        vertical-align: middle;\n",
              "    }\n",
              "\n",
              "    .dataframe tbody tr th {\n",
              "        vertical-align: top;\n",
              "    }\n",
              "\n",
              "    .dataframe thead th {\n",
              "        text-align: right;\n",
              "    }\n",
              "</style>\n",
              "<table border=\"1\" class=\"dataframe\">\n",
              "  <thead>\n",
              "    <tr style=\"text-align: right;\">\n",
              "      <th></th>\n",
              "      <th>movieId</th>\n",
              "      <th>title</th>\n",
              "      <th>genres</th>\n",
              "      <th>userId</th>\n",
              "      <th>rating</th>\n",
              "      <th>timestamp</th>\n",
              "    </tr>\n",
              "  </thead>\n",
              "  <tbody>\n",
              "    <tr>\n",
              "      <th>0</th>\n",
              "      <td>1</td>\n",
              "      <td>toy story</td>\n",
              "      <td>Adventure|Animation|Children|Comedy|Fantasy</td>\n",
              "      <td>3</td>\n",
              "      <td>4.0</td>\n",
              "      <td>1999-12-11 13:36:47</td>\n",
              "    </tr>\n",
              "    <tr>\n",
              "      <th>1</th>\n",
              "      <td>1</td>\n",
              "      <td>toy story</td>\n",
              "      <td>Adventure|Animation|Children|Comedy|Fantasy</td>\n",
              "      <td>6</td>\n",
              "      <td>5.0</td>\n",
              "      <td>1997-03-13 17:50:52</td>\n",
              "    </tr>\n",
              "    <tr>\n",
              "      <th>2</th>\n",
              "      <td>1</td>\n",
              "      <td>toy story</td>\n",
              "      <td>Adventure|Animation|Children|Comedy|Fantasy</td>\n",
              "      <td>8</td>\n",
              "      <td>4.0</td>\n",
              "      <td>1996-06-05 13:37:51</td>\n",
              "    </tr>\n",
              "    <tr>\n",
              "      <th>3</th>\n",
              "      <td>1</td>\n",
              "      <td>toy story</td>\n",
              "      <td>Adventure|Animation|Children|Comedy|Fantasy</td>\n",
              "      <td>10</td>\n",
              "      <td>4.0</td>\n",
              "      <td>1999-11-25 02:44:47</td>\n",
              "    </tr>\n",
              "    <tr>\n",
              "      <th>4</th>\n",
              "      <td>1</td>\n",
              "      <td>toy story</td>\n",
              "      <td>Adventure|Animation|Children|Comedy|Fantasy</td>\n",
              "      <td>11</td>\n",
              "      <td>4.5</td>\n",
              "      <td>2009-01-02 01:13:41</td>\n",
              "    </tr>\n",
              "    <tr>\n",
              "      <th>...</th>\n",
              "      <td>...</td>\n",
              "      <td>...</td>\n",
              "      <td>...</td>\n",
              "      <td>...</td>\n",
              "      <td>...</td>\n",
              "      <td>...</td>\n",
              "    </tr>\n",
              "    <tr>\n",
              "      <th>20000258</th>\n",
              "      <td>131254</td>\n",
              "      <td>kein bund für's leben</td>\n",
              "      <td>Comedy</td>\n",
              "      <td>79570</td>\n",
              "      <td>4.0</td>\n",
              "      <td>2015-03-30 19:32:59</td>\n",
              "    </tr>\n",
              "    <tr>\n",
              "      <th>20000259</th>\n",
              "      <td>131256</td>\n",
              "      <td>feuer, eis &amp; dosenbier</td>\n",
              "      <td>Comedy</td>\n",
              "      <td>79570</td>\n",
              "      <td>4.0</td>\n",
              "      <td>2015-03-30 19:48:08</td>\n",
              "    </tr>\n",
              "    <tr>\n",
              "      <th>20000260</th>\n",
              "      <td>131258</td>\n",
              "      <td>the pirates</td>\n",
              "      <td>Adventure</td>\n",
              "      <td>28906</td>\n",
              "      <td>2.5</td>\n",
              "      <td>2015-03-30 19:56:32</td>\n",
              "    </tr>\n",
              "    <tr>\n",
              "      <th>20000261</th>\n",
              "      <td>131260</td>\n",
              "      <td>rentun ruusu</td>\n",
              "      <td>(no genres listed)</td>\n",
              "      <td>65409</td>\n",
              "      <td>3.0</td>\n",
              "      <td>2015-03-30 19:57:46</td>\n",
              "    </tr>\n",
              "    <tr>\n",
              "      <th>20000262</th>\n",
              "      <td>131262</td>\n",
              "      <td>innocence</td>\n",
              "      <td>Adventure|Fantasy|Horror</td>\n",
              "      <td>133047</td>\n",
              "      <td>4.0</td>\n",
              "      <td>2015-03-30 20:39:26</td>\n",
              "    </tr>\n",
              "  </tbody>\n",
              "</table>\n",
              "<p>20000263 rows × 6 columns</p>\n",
              "</div>"
            ],
            "text/plain": [
              "          movieId                    title  ... rating            timestamp\n",
              "0               1               toy story   ...    4.0  1999-12-11 13:36:47\n",
              "1               1               toy story   ...    5.0  1997-03-13 17:50:52\n",
              "2               1               toy story   ...    4.0  1996-06-05 13:37:51\n",
              "3               1               toy story   ...    4.0  1999-11-25 02:44:47\n",
              "4               1               toy story   ...    4.5  2009-01-02 01:13:41\n",
              "...           ...                      ...  ...    ...                  ...\n",
              "20000258   131254   kein bund für's leben   ...    4.0  2015-03-30 19:32:59\n",
              "20000259   131256  feuer, eis & dosenbier   ...    4.0  2015-03-30 19:48:08\n",
              "20000260   131258             the pirates   ...    2.5  2015-03-30 19:56:32\n",
              "20000261   131260            rentun ruusu   ...    3.0  2015-03-30 19:57:46\n",
              "20000262   131262               innocence   ...    4.0  2015-03-30 20:39:26\n",
              "\n",
              "[20000263 rows x 6 columns]"
            ]
          },
          "metadata": {
            "tags": []
          },
          "execution_count": 21
        }
      ]
    },
    {
      "cell_type": "code",
      "metadata": {
        "id": "4UWL2NNgIED0"
      },
      "source": [
        "id = movie_info_small['movieId'].unique().tolist()\n",
        "name = movie_info_small['title'].unique().tolist()"
      ],
      "execution_count": 39,
      "outputs": []
    },
    {
      "cell_type": "code",
      "metadata": {
        "id": "wj2R3q0_G17G"
      },
      "source": [
        "movie_info_small['title'] = movie_info_small['title'].apply(string_preprocess)"
      ],
      "execution_count": 18,
      "outputs": []
    },
    {
      "cell_type": "code",
      "metadata": {
        "id": "IGIKNZs0Ftdp",
        "colab": {
          "base_uri": "https://localhost:8080/",
          "height": 316
        },
        "outputId": "d9c61613-f09a-4418-dfb9-c0d2a72bda69"
      },
      "source": [
        "#create index item name and value item id series\n",
        "movies_list_id = pd.Series(movie_info_small['movieId'].unique().tolist(),index=movie_info_small['title'].unique().tolist())"
      ],
      "execution_count": 38,
      "outputs": [
        {
          "output_type": "error",
          "ename": "ValueError",
          "evalue": "ignored",
          "traceback": [
            "\u001b[0;31m---------------------------------------------------------------------------\u001b[0m",
            "\u001b[0;31mValueError\u001b[0m                                Traceback (most recent call last)",
            "\u001b[0;32m<ipython-input-38-0199fa018931>\u001b[0m in \u001b[0;36m<module>\u001b[0;34m()\u001b[0m\n\u001b[1;32m      1\u001b[0m \u001b[0;31m#create index item name and value item id series\u001b[0m\u001b[0;34m\u001b[0m\u001b[0;34m\u001b[0m\u001b[0;34m\u001b[0m\u001b[0m\n\u001b[0;32m----> 2\u001b[0;31m \u001b[0mmovies_list_id\u001b[0m \u001b[0;34m=\u001b[0m \u001b[0mpd\u001b[0m\u001b[0;34m.\u001b[0m\u001b[0mSeries\u001b[0m\u001b[0;34m(\u001b[0m\u001b[0mmovie_info_small\u001b[0m\u001b[0;34m[\u001b[0m\u001b[0;34m'movieId'\u001b[0m\u001b[0;34m]\u001b[0m\u001b[0;34m.\u001b[0m\u001b[0munique\u001b[0m\u001b[0;34m(\u001b[0m\u001b[0;34m)\u001b[0m\u001b[0;34m.\u001b[0m\u001b[0mtolist\u001b[0m\u001b[0;34m(\u001b[0m\u001b[0;34m)\u001b[0m\u001b[0;34m,\u001b[0m\u001b[0mindex\u001b[0m\u001b[0;34m=\u001b[0m\u001b[0mmovie_info_small\u001b[0m\u001b[0;34m[\u001b[0m\u001b[0;34m'title'\u001b[0m\u001b[0;34m]\u001b[0m\u001b[0;34m.\u001b[0m\u001b[0munique\u001b[0m\u001b[0;34m(\u001b[0m\u001b[0;34m)\u001b[0m\u001b[0;34m.\u001b[0m\u001b[0mtolist\u001b[0m\u001b[0;34m(\u001b[0m\u001b[0;34m)\u001b[0m\u001b[0;34m)\u001b[0m\u001b[0;34m\u001b[0m\u001b[0;34m\u001b[0m\u001b[0m\n\u001b[0m",
            "\u001b[0;32m/usr/local/lib/python3.6/dist-packages/pandas/core/series.py\u001b[0m in \u001b[0;36m__init__\u001b[0;34m(self, data, index, dtype, name, copy, fastpath)\u001b[0m\n\u001b[1;32m    312\u001b[0m                     \u001b[0;32mif\u001b[0m \u001b[0mlen\u001b[0m\u001b[0;34m(\u001b[0m\u001b[0mindex\u001b[0m\u001b[0;34m)\u001b[0m \u001b[0;34m!=\u001b[0m \u001b[0mlen\u001b[0m\u001b[0;34m(\u001b[0m\u001b[0mdata\u001b[0m\u001b[0;34m)\u001b[0m\u001b[0;34m:\u001b[0m\u001b[0;34m\u001b[0m\u001b[0;34m\u001b[0m\u001b[0m\n\u001b[1;32m    313\u001b[0m                         raise ValueError(\n\u001b[0;32m--> 314\u001b[0;31m                             \u001b[0;34mf\"Length of passed values is {len(data)}, \"\u001b[0m\u001b[0;34m\u001b[0m\u001b[0;34m\u001b[0m\u001b[0m\n\u001b[0m\u001b[1;32m    315\u001b[0m                             \u001b[0;34mf\"index implies {len(index)}.\"\u001b[0m\u001b[0;34m\u001b[0m\u001b[0;34m\u001b[0m\u001b[0m\n\u001b[1;32m    316\u001b[0m                         )\n",
            "\u001b[0;31mValueError\u001b[0m: Length of passed values is 26744, index implies 25711."
          ]
        }
      ]
    },
    {
      "cell_type": "code",
      "metadata": {
        "colab": {
          "base_uri": "https://localhost:8080/"
        },
        "id": "FunVWzgPFfkE",
        "outputId": "cb58ac20-ad9a-4816-b788-184351f2d0d0"
      },
      "source": [
        "movies_list_id.tail()"
      ],
      "execution_count": 42,
      "outputs": [
        {
          "output_type": "execute_result",
          "data": {
            "text/plain": [
              "philadelphia story, the     898\n",
              "singin' in the rain         899\n",
              "american in paris, an       900\n",
              "funny face                  901\n",
              "breakfast at tiffany's      902\n",
              "dtype: int64"
            ]
          },
          "metadata": {
            "tags": []
          },
          "execution_count": 42
        }
      ]
    },
    {
      "cell_type": "code",
      "metadata": {
        "id": "8XuwaSRLFxGN"
      },
      "source": [
        "def get_movies_recommendation(movie_name):\n",
        "  movie_name = movie_name.lower()\n",
        "  item_id = []\n",
        "  rating_id = []\n",
        "  movie_id = movies_list_id.loc[movies_list_id.index.str.contains(movie_name)][0]\n",
        "  user_id = combined_small.loc[combined_small.item == movie_id]['user'].tolist()[:5]\n",
        "  for id in user_id:\n",
        "    for i in range(len(predictions)):\n",
        "      if predictions[i].uid == id:\n",
        "        item_id.append(predictions[i].iid)\n",
        "        rating_id.append((predictions[i].est,predictions[i].iid))\n",
        "  movies_names = movies_list_id.loc[movies_list_id.isin(item_id)].index.tolist()[:5]\n",
        "  movies_ratings = dict(zip(movies_names,rating_id))\n",
        "  return movies_ratings"
      ],
      "execution_count": 13,
      "outputs": []
    },
    {
      "cell_type": "code",
      "metadata": {
        "id": "ydrDQkKBi_i9"
      },
      "source": [
        "#function to make api call to tmdb\n",
        "def tmdb_call(movie_name):\n",
        "  movies = get_movies_recommendation(movie_name)\n",
        "  movie_ids = []\n",
        "  datas = []\n",
        "\n",
        "  #getting the ids of the movies\n",
        "  for key,value in movies.items():\n",
        "    movie_ids.append(value[1])\n",
        "\n",
        "  #collecting the tmdb id for link_df\n",
        "  tmdb_ids = link_df.loc[link_df.movieId.isin(keys)]['tmdbId'].values.tolist()\n",
        "  for id in tmdb_ids:\n",
        "    url = f\"https://api.themoviedb.org/3/movie/{id}?api_key=f86248c492db78432f0f03f7246698d6\"\n",
        "    resp = requests.get(url=url)\n",
        "    data = resp.json()\n",
        "    datas.append(data)\n",
        "  \n",
        "  return datas"
      ],
      "execution_count": 14,
      "outputs": []
    },
    {
      "cell_type": "code",
      "metadata": {
        "colab": {
          "base_uri": "https://localhost:8080/"
        },
        "id": "zLyCR-fgHUOQ",
        "outputId": "0ec39c7b-d8fe-4ffb-8dc0-612aa66a9f0e"
      },
      "source": [
        "get_movies_recommendation('virtuosity')"
      ],
      "execution_count": 43,
      "outputs": [
        {
          "output_type": "execute_result",
          "data": {
            "text/plain": [
              "{'american president, the ': (3.4481593123722303, 338),\n",
              " 'father of the bride part ii ': (2.6673910080539946, 173),\n",
              " 'leaving las vegas ': (4.396927752929507, 364),\n",
              " 'to die for ': (2.7323745259997603, 588),\n",
              " 'usual suspects, the ': (3.8030206261310884, 289)}"
            ]
          },
          "metadata": {
            "tags": []
          },
          "execution_count": 43
        }
      ]
    }
  ]
}