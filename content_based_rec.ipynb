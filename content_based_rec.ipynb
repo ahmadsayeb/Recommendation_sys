{
  "nbformat": 4,
  "nbformat_minor": 0,
  "metadata": {
    "colab": {
      "name": "content_based_rec.ipynb",
      "provenance": [],
      "collapsed_sections": []
    },
    "kernelspec": {
      "name": "python3",
      "display_name": "Python 3"
    }
  },
  "cells": [
    {
      "cell_type": "code",
      "metadata": {
        "id": "Dx9447fGCTji"
      },
      "source": [
        "import pandas as pd\n",
        "import numpy as np\n",
        "from sklearn.feature_extraction.text import CountVectorizer\n",
        "from sklearn.metrics.pairwise import cosine_similarity\n",
        "import re"
      ],
      "execution_count": 1,
      "outputs": []
    },
    {
      "cell_type": "code",
      "metadata": {
        "id": "FR41dxo6CaCX"
      },
      "source": [
        "movie_df = pd.read_csv('/content/drive/MyDrive/Colab Notebooks/movie_lens/movie.csv')\n",
        "rating_df = pd.read_csv('/content/drive/MyDrive/Colab Notebooks/movie_lens/rating.csv')\n",
        "link_df = pd.read_csv('/content/drive/MyDrive/Colab Notebooks/movie_lens/link.csv')\n",
        "tag_df = pd.read_csv('/content/drive/MyDrive/Colab Notebooks/movie_lens/tag.csv')\n",
        "genome_tags_df = pd.read_csv('/content/drive/MyDrive/Colab Notebooks/movie_lens/genome_tags.csv')\n",
        "genome_scores_df = pd.read_csv('/content/drive/MyDrive/Colab Notebooks/movie_lens/genome_scores.csv')"
      ],
      "execution_count": 2,
      "outputs": []
    },
    {
      "cell_type": "code",
      "metadata": {
        "id": "whneQOeuCvoq"
      },
      "source": [
        "#this is not the same combined small as collaborative\n",
        "combined_small = pd.read_csv('/content/drive/MyDrive/Colab Notebooks/movie_lens/tags_mvoies_combined_small.csv')"
      ],
      "execution_count": 3,
      "outputs": []
    },
    {
      "cell_type": "code",
      "metadata": {
        "id": "rY9jTP11C-U6"
      },
      "source": [
        "#take a copy of the data frame\n",
        "df_tag = genome_tags_df.copy(deep = True)\n",
        "df_score = genome_scores_df.copy(deep = True)\n",
        "combined_copy_tag = combined_small.copy(deep = True)"
      ],
      "execution_count": 4,
      "outputs": []
    },
    {
      "cell_type": "code",
      "metadata": {
        "id": "CH5OgQUEDJ9Y"
      },
      "source": [
        "#count how many times each movie tagged with different tag\n",
        "tags_df_counted = pd.DataFrame((tag_df.groupby(['movieId','tag'])['userId'].count())).reset_index()\n",
        "tags_df_counted.rename(columns={'userId':'count'},inplace=True)"
      ],
      "execution_count": 5,
      "outputs": []
    },
    {
      "cell_type": "code",
      "metadata": {
        "id": "K4YVfolTDAIB"
      },
      "source": [
        "#fucntion creates a data frame with movie id and taglist as columns\n",
        "def creat_tag_list(tags_df_counted):\n",
        "  df = pd.DataFrame([[0,0]],columns= ['movieId','tag_list'])\n",
        "  filtered_unique_id = tags_df_counted['movieId'].unique().tolist()\n",
        "  for id in filtered_unique_id:\n",
        "    tags_list = tags_df_counted.loc[tags_df_counted['movieId'] == id]['tag'].values.tolist()\n",
        "    df_dummy = pd.DataFrame([[id,tags_list]],columns=['movieId','tag_list'])\n",
        "    df = df.append(df_dummy)\n",
        "\n",
        "  #reset the index and drop nans  \n",
        "  tag_list_combined = df.reset_index().drop(columns=['index'])\n",
        "  tag_list_combined.drop(tag_list_combined.index[0],inplace=True) \n",
        "\n",
        "  return tag_list_combined"
      ],
      "execution_count": 6,
      "outputs": []
    },
    {
      "cell_type": "code",
      "metadata": {
        "id": "vzSI1LGNDe_c",
        "colab": {
          "base_uri": "https://localhost:8080/",
          "height": 198
        },
        "outputId": "dd8f8485-408a-47e0-d261-e3fe0512ba39"
      },
      "source": [
        "combined_copy_tag.drop(columns=['Unnamed: 0'],inplace=True)\n",
        "tag_list_combined = creat_tag_list(tags_df_counted)\n",
        "tag_list_combined.head(5)"
      ],
      "execution_count": 7,
      "outputs": [
        {
          "output_type": "execute_result",
          "data": {
            "text/html": [
              "<div>\n",
              "<style scoped>\n",
              "    .dataframe tbody tr th:only-of-type {\n",
              "        vertical-align: middle;\n",
              "    }\n",
              "\n",
              "    .dataframe tbody tr th {\n",
              "        vertical-align: top;\n",
              "    }\n",
              "\n",
              "    .dataframe thead th {\n",
              "        text-align: right;\n",
              "    }\n",
              "</style>\n",
              "<table border=\"1\" class=\"dataframe\">\n",
              "  <thead>\n",
              "    <tr style=\"text-align: right;\">\n",
              "      <th></th>\n",
              "      <th>movieId</th>\n",
              "      <th>tag_list</th>\n",
              "    </tr>\n",
              "  </thead>\n",
              "  <tbody>\n",
              "    <tr>\n",
              "      <th>1</th>\n",
              "      <td>1</td>\n",
              "      <td>[2009 reissue in Stereoscopic 3-D, 3D, 55 movi...</td>\n",
              "    </tr>\n",
              "    <tr>\n",
              "      <th>2</th>\n",
              "      <td>2</td>\n",
              "      <td>[CLV, Children, Chris Van Allsburg, Dynamic CG...</td>\n",
              "    </tr>\n",
              "    <tr>\n",
              "      <th>3</th>\n",
              "      <td>3</td>\n",
              "      <td>[CLV, Funniest Movies, Howard Deutch, Jack Lem...</td>\n",
              "    </tr>\n",
              "    <tr>\n",
              "      <th>4</th>\n",
              "      <td>4</td>\n",
              "      <td>[CLV, characters, chick flick, revenge]</td>\n",
              "    </tr>\n",
              "    <tr>\n",
              "      <th>5</th>\n",
              "      <td>5</td>\n",
              "      <td>[CLV, Comedy, Diane Keaton, Fantasy, Steve Mar...</td>\n",
              "    </tr>\n",
              "  </tbody>\n",
              "</table>\n",
              "</div>"
            ],
            "text/plain": [
              "   movieId                                           tag_list\n",
              "1        1  [2009 reissue in Stereoscopic 3-D, 3D, 55 movi...\n",
              "2        2  [CLV, Children, Chris Van Allsburg, Dynamic CG...\n",
              "3        3  [CLV, Funniest Movies, Howard Deutch, Jack Lem...\n",
              "4        4            [CLV, characters, chick flick, revenge]\n",
              "5        5  [CLV, Comedy, Diane Keaton, Fantasy, Steve Mar..."
            ]
          },
          "metadata": {
            "tags": []
          },
          "execution_count": 7
        }
      ]
    },
    {
      "cell_type": "code",
      "metadata": {
        "colab": {
          "base_uri": "https://localhost:8080/",
          "height": 198
        },
        "id": "gy5O6rJPDP58",
        "outputId": "56aa7e13-a1ae-4590-a762-6b93084e2d82"
      },
      "source": [
        "#how many time a tag was used\n",
        "combined_grouped = pd.DataFrame((combined_copy_tag.groupby(['movieId','genres'])\\\n",
        "                                 ['userId'].count())).reset_index()\n",
        "combined_grouped.rename(columns={'userId':'count'},inplace=True)\n",
        "combined_grouped.head(5)"
      ],
      "execution_count": 8,
      "outputs": [
        {
          "output_type": "execute_result",
          "data": {
            "text/html": [
              "<div>\n",
              "<style scoped>\n",
              "    .dataframe tbody tr th:only-of-type {\n",
              "        vertical-align: middle;\n",
              "    }\n",
              "\n",
              "    .dataframe tbody tr th {\n",
              "        vertical-align: top;\n",
              "    }\n",
              "\n",
              "    .dataframe thead th {\n",
              "        text-align: right;\n",
              "    }\n",
              "</style>\n",
              "<table border=\"1\" class=\"dataframe\">\n",
              "  <thead>\n",
              "    <tr style=\"text-align: right;\">\n",
              "      <th></th>\n",
              "      <th>movieId</th>\n",
              "      <th>genres</th>\n",
              "      <th>count</th>\n",
              "    </tr>\n",
              "  </thead>\n",
              "  <tbody>\n",
              "    <tr>\n",
              "      <th>0</th>\n",
              "      <td>1</td>\n",
              "      <td>Adventure|Animation|Children|Comedy|Fantasy</td>\n",
              "      <td>49695</td>\n",
              "    </tr>\n",
              "    <tr>\n",
              "      <th>1</th>\n",
              "      <td>2</td>\n",
              "      <td>Adventure|Children|Fantasy</td>\n",
              "      <td>22243</td>\n",
              "    </tr>\n",
              "    <tr>\n",
              "      <th>2</th>\n",
              "      <td>3</td>\n",
              "      <td>Comedy|Romance</td>\n",
              "      <td>12735</td>\n",
              "    </tr>\n",
              "    <tr>\n",
              "      <th>3</th>\n",
              "      <td>4</td>\n",
              "      <td>Comedy|Drama|Romance</td>\n",
              "      <td>2756</td>\n",
              "    </tr>\n",
              "    <tr>\n",
              "      <th>4</th>\n",
              "      <td>5</td>\n",
              "      <td>Comedy</td>\n",
              "      <td>12161</td>\n",
              "    </tr>\n",
              "  </tbody>\n",
              "</table>\n",
              "</div>"
            ],
            "text/plain": [
              "   movieId                                       genres  count\n",
              "0        1  Adventure|Animation|Children|Comedy|Fantasy  49695\n",
              "1        2                   Adventure|Children|Fantasy  22243\n",
              "2        3                               Comedy|Romance  12735\n",
              "3        4                         Comedy|Drama|Romance   2756\n",
              "4        5                                       Comedy  12161"
            ]
          },
          "metadata": {
            "tags": []
          },
          "execution_count": 8
        }
      ]
    },
    {
      "cell_type": "code",
      "metadata": {
        "colab": {
          "base_uri": "https://localhost:8080/",
          "height": 198
        },
        "id": "NtU1RKnLQR-7",
        "outputId": "ee6898e3-8930-41c3-c909-79cdb2c91652"
      },
      "source": [
        "#movie tag list and genres are combined together\n",
        "merged = pd.concat([tag_list_combined,combined_grouped.drop(columns=['movieId'])],axis=1)\n",
        "merged.dropna(inplace=True)\n",
        "merged.head(5)"
      ],
      "execution_count": 9,
      "outputs": [
        {
          "output_type": "execute_result",
          "data": {
            "text/html": [
              "<div>\n",
              "<style scoped>\n",
              "    .dataframe tbody tr th:only-of-type {\n",
              "        vertical-align: middle;\n",
              "    }\n",
              "\n",
              "    .dataframe tbody tr th {\n",
              "        vertical-align: top;\n",
              "    }\n",
              "\n",
              "    .dataframe thead th {\n",
              "        text-align: right;\n",
              "    }\n",
              "</style>\n",
              "<table border=\"1\" class=\"dataframe\">\n",
              "  <thead>\n",
              "    <tr style=\"text-align: right;\">\n",
              "      <th></th>\n",
              "      <th>movieId</th>\n",
              "      <th>tag_list</th>\n",
              "      <th>genres</th>\n",
              "      <th>count</th>\n",
              "    </tr>\n",
              "  </thead>\n",
              "  <tbody>\n",
              "    <tr>\n",
              "      <th>1</th>\n",
              "      <td>1.0</td>\n",
              "      <td>[2009 reissue in Stereoscopic 3-D, 3D, 55 movi...</td>\n",
              "      <td>Adventure|Children|Fantasy</td>\n",
              "      <td>22243.0</td>\n",
              "    </tr>\n",
              "    <tr>\n",
              "      <th>2</th>\n",
              "      <td>2.0</td>\n",
              "      <td>[CLV, Children, Chris Van Allsburg, Dynamic CG...</td>\n",
              "      <td>Comedy|Romance</td>\n",
              "      <td>12735.0</td>\n",
              "    </tr>\n",
              "    <tr>\n",
              "      <th>3</th>\n",
              "      <td>3.0</td>\n",
              "      <td>[CLV, Funniest Movies, Howard Deutch, Jack Lem...</td>\n",
              "      <td>Comedy|Drama|Romance</td>\n",
              "      <td>2756.0</td>\n",
              "    </tr>\n",
              "    <tr>\n",
              "      <th>4</th>\n",
              "      <td>4.0</td>\n",
              "      <td>[CLV, characters, chick flick, revenge]</td>\n",
              "      <td>Comedy</td>\n",
              "      <td>12161.0</td>\n",
              "    </tr>\n",
              "    <tr>\n",
              "      <th>5</th>\n",
              "      <td>5.0</td>\n",
              "      <td>[CLV, Comedy, Diane Keaton, Fantasy, Steve Mar...</td>\n",
              "      <td>Action|Crime|Thriller</td>\n",
              "      <td>23899.0</td>\n",
              "    </tr>\n",
              "  </tbody>\n",
              "</table>\n",
              "</div>"
            ],
            "text/plain": [
              "   movieId  ...    count\n",
              "1      1.0  ...  22243.0\n",
              "2      2.0  ...  12735.0\n",
              "3      3.0  ...   2756.0\n",
              "4      4.0  ...  12161.0\n",
              "5      5.0  ...  23899.0\n",
              "\n",
              "[5 rows x 4 columns]"
            ]
          },
          "metadata": {
            "tags": []
          },
          "execution_count": 9
        }
      ]
    },
    {
      "cell_type": "code",
      "metadata": {
        "colab": {
          "base_uri": "https://localhost:8080/",
          "height": 198
        },
        "id": "hdss_oTTQd_I",
        "outputId": "7efc408c-8721-42cf-90c8-660119d9b7aa"
      },
      "source": [
        "#changing the types from float to int and list ot string\n",
        "merged['movieId'] = merged['movieId'].astype(int)\n",
        "merged['userId'] = merged['count'].astype(int)\n",
        "merged['tag_list'] = merged['tag_list'].astype(str)\n",
        "merged['genres'] = merged['genres'].astype(str)\n",
        "\n",
        "#creating a column which is genres and tag_list combined\n",
        "merged['Bag_of_words'] = merged['tag_list'] + merged['genres']\n",
        "merged.head(5)"
      ],
      "execution_count": 10,
      "outputs": [
        {
          "output_type": "execute_result",
          "data": {
            "text/html": [
              "<div>\n",
              "<style scoped>\n",
              "    .dataframe tbody tr th:only-of-type {\n",
              "        vertical-align: middle;\n",
              "    }\n",
              "\n",
              "    .dataframe tbody tr th {\n",
              "        vertical-align: top;\n",
              "    }\n",
              "\n",
              "    .dataframe thead th {\n",
              "        text-align: right;\n",
              "    }\n",
              "</style>\n",
              "<table border=\"1\" class=\"dataframe\">\n",
              "  <thead>\n",
              "    <tr style=\"text-align: right;\">\n",
              "      <th></th>\n",
              "      <th>movieId</th>\n",
              "      <th>tag_list</th>\n",
              "      <th>genres</th>\n",
              "      <th>count</th>\n",
              "      <th>userId</th>\n",
              "      <th>Bag_of_words</th>\n",
              "    </tr>\n",
              "  </thead>\n",
              "  <tbody>\n",
              "    <tr>\n",
              "      <th>1</th>\n",
              "      <td>1</td>\n",
              "      <td>['2009 reissue in Stereoscopic 3-D', '3D', '55...</td>\n",
              "      <td>Adventure|Children|Fantasy</td>\n",
              "      <td>22243.0</td>\n",
              "      <td>22243</td>\n",
              "      <td>['2009 reissue in Stereoscopic 3-D', '3D', '55...</td>\n",
              "    </tr>\n",
              "    <tr>\n",
              "      <th>2</th>\n",
              "      <td>2</td>\n",
              "      <td>['CLV', 'Children', 'Chris Van Allsburg', 'Dyn...</td>\n",
              "      <td>Comedy|Romance</td>\n",
              "      <td>12735.0</td>\n",
              "      <td>12735</td>\n",
              "      <td>['CLV', 'Children', 'Chris Van Allsburg', 'Dyn...</td>\n",
              "    </tr>\n",
              "    <tr>\n",
              "      <th>3</th>\n",
              "      <td>3</td>\n",
              "      <td>['CLV', 'Funniest Movies', 'Howard Deutch', 'J...</td>\n",
              "      <td>Comedy|Drama|Romance</td>\n",
              "      <td>2756.0</td>\n",
              "      <td>2756</td>\n",
              "      <td>['CLV', 'Funniest Movies', 'Howard Deutch', 'J...</td>\n",
              "    </tr>\n",
              "    <tr>\n",
              "      <th>4</th>\n",
              "      <td>4</td>\n",
              "      <td>['CLV', 'characters', 'chick flick', 'revenge']</td>\n",
              "      <td>Comedy</td>\n",
              "      <td>12161.0</td>\n",
              "      <td>12161</td>\n",
              "      <td>['CLV', 'characters', 'chick flick', 'revenge'...</td>\n",
              "    </tr>\n",
              "    <tr>\n",
              "      <th>5</th>\n",
              "      <td>5</td>\n",
              "      <td>['CLV', 'Comedy', 'Diane Keaton', 'Fantasy', '...</td>\n",
              "      <td>Action|Crime|Thriller</td>\n",
              "      <td>23899.0</td>\n",
              "      <td>23899</td>\n",
              "      <td>['CLV', 'Comedy', 'Diane Keaton', 'Fantasy', '...</td>\n",
              "    </tr>\n",
              "  </tbody>\n",
              "</table>\n",
              "</div>"
            ],
            "text/plain": [
              "   movieId  ...                                       Bag_of_words\n",
              "1        1  ...  ['2009 reissue in Stereoscopic 3-D', '3D', '55...\n",
              "2        2  ...  ['CLV', 'Children', 'Chris Van Allsburg', 'Dyn...\n",
              "3        3  ...  ['CLV', 'Funniest Movies', 'Howard Deutch', 'J...\n",
              "4        4  ...  ['CLV', 'characters', 'chick flick', 'revenge'...\n",
              "5        5  ...  ['CLV', 'Comedy', 'Diane Keaton', 'Fantasy', '...\n",
              "\n",
              "[5 rows x 6 columns]"
            ]
          },
          "metadata": {
            "tags": []
          },
          "execution_count": 10
        }
      ]
    },
    {
      "cell_type": "code",
      "metadata": {
        "colab": {
          "base_uri": "https://localhost:8080/",
          "height": 108
        },
        "id": "8lnRChV4QmSz",
        "outputId": "181cdec9-e6a0-4ee3-bf2d-da24600cf85f"
      },
      "source": [
        "merged['Bag_of_words'].values[0]"
      ],
      "execution_count": 11,
      "outputs": [
        {
          "output_type": "execute_result",
          "data": {
            "application/vnd.google.colaboratory.intrinsic+json": {
              "type": "string"
            },
            "text/plain": [
              "'[\\'2009 reissue in Stereoscopic 3-D\\', \\'3D\\', \\'55 movies every kid should see--Entertainment Weekly\\', \\'Animation\\', \\'BD-Video\\', \\'Best of Rotten Tomatoes: All Time\\', \\'Buzz Lightyear\\', \\'CG animation\\', \\'CGI\\', \\'CLV\\', \\'Cartoon\\', \\'DARING RESCUES\\', \\'DVD-Video\\', \\'Disney\\', \\'Disney animated feature\\', \\'Engaging\\', \\'HEROIC MISSION\\', \\'John Lasseter\\', \\'National Film Registry\\', \\'Pixar\\', \\'Pixar animation\\', \\'TOYS COME TO LIFE\\', \\'Tim Allen\\', \\'Tom Hanks\\', \"Tumey\\'s To See Again\", \"Tumey\\'s VHS\", \\'TÃ©a Leoni does not star in this movie\\', \\'UNLIKELY FRIENDSHIPS\\', \\'USA\\', \\'Want\\', \\'Watched\\', \\'Woody\\', \\'action figure\\', \\'action figures\\', \\'adventure\\', \\'almost favorite\\', \\'animated\\', \\'animation\\', \\'avi\\', \\'bright\\', \\'buddy movie\\', \\'buy\\', \\'cgi\\', \\'children\\', \\'classic\\', \\'clever\\', \\'comedy\\', \\'computer animation\\', \\'cute\\', \\'disney\\', \\'dolls\\', \"erlend\\'s DVDs\", \\'family\\', \\'family film\\', \\'fanciful\\', \\'fantasy\\', \\'first cgi film\\', \\'friendship\\', \\'fun\\', \\'funny\\', \\'humorous\\', \\'imdb top 250\\', \\'innovative\\', \\'kids and family\\', \\'kids movie\\', \\'light\\', \\'lots of heart\\', \\'pixar\\', \\'rated-G\\', \\'rousing\\', \\'soothing\\', \\'story\\', \\'the boys\\', \\'time travel\\', \\'toy\\', \\'toys\\', \\'very good\\', \\'villian hurts toys\\', \\'voice acting\\', \\'want to see again\\', \\'warm\\', \\'witty\\', \\'ya boy\\', \\'é˜®ä¸€é¸£\\']Adventure|Children|Fantasy'"
            ]
          },
          "metadata": {
            "tags": []
          },
          "execution_count": 11
        }
      ]
    },
    {
      "cell_type": "code",
      "metadata": {
        "id": "Zr-yV8mrRGiz"
      },
      "source": [
        "#removing non alphanumeric and double spaces\n",
        "#changing from upper to lower\n",
        "def text_cleaning(row):\n",
        "  alpha_numeric = re.sub(\"\\W\",\" \",row)\n",
        "  double_space = re.sub(' +',' ',alpha_numeric)\n",
        "  remove_space = double_space.strip()\n",
        "  lower = remove_space.lower()\n",
        "  return lower\n",
        "\n",
        "merged['Bag_of_words'] = merged['Bag_of_words'].apply(text_cleaning)\n",
        "merged.drop(columns=['genres','count','tag_list'],inplace=True)"
      ],
      "execution_count": 12,
      "outputs": []
    },
    {
      "cell_type": "code",
      "metadata": {
        "colab": {
          "base_uri": "https://localhost:8080/",
          "height": 198
        },
        "id": "z-KLNoEiRH1I",
        "outputId": "8825be48-2fa2-46a7-b34d-00f106a385fa"
      },
      "source": [
        "merged.tail(5)"
      ],
      "execution_count": 13,
      "outputs": [
        {
          "output_type": "execute_result",
          "data": {
            "text/html": [
              "<div>\n",
              "<style scoped>\n",
              "    .dataframe tbody tr th:only-of-type {\n",
              "        vertical-align: middle;\n",
              "    }\n",
              "\n",
              "    .dataframe tbody tr th {\n",
              "        vertical-align: top;\n",
              "    }\n",
              "\n",
              "    .dataframe thead th {\n",
              "        text-align: right;\n",
              "    }\n",
              "</style>\n",
              "<table border=\"1\" class=\"dataframe\">\n",
              "  <thead>\n",
              "    <tr style=\"text-align: right;\">\n",
              "      <th></th>\n",
              "      <th>movieId</th>\n",
              "      <th>userId</th>\n",
              "      <th>Bag_of_words</th>\n",
              "    </tr>\n",
              "  </thead>\n",
              "  <tbody>\n",
              "    <tr>\n",
              "      <th>499</th>\n",
              "      <td>565</td>\n",
              "      <td>6583</td>\n",
              "      <td>claudio brook criterion frederico luppi guille...</td>\n",
              "    </tr>\n",
              "    <tr>\n",
              "      <th>500</th>\n",
              "      <td>566</td>\n",
              "      <td>10219</td>\n",
              "      <td>writers comedy musical romance</td>\n",
              "    </tr>\n",
              "    <tr>\n",
              "      <th>501</th>\n",
              "      <td>567</td>\n",
              "      <td>3033</td>\n",
              "      <td>almodovar clv pedro almodovar pedro almodã³var...</td>\n",
              "    </tr>\n",
              "    <tr>\n",
              "      <th>502</th>\n",
              "      <td>568</td>\n",
              "      <td>1546</td>\n",
              "      <td>directorial debut comedy musical</td>\n",
              "    </tr>\n",
              "    <tr>\n",
              "      <th>503</th>\n",
              "      <td>569</td>\n",
              "      <td>7983</td>\n",
              "      <td>andrew scheinman baseball drama romance</td>\n",
              "    </tr>\n",
              "  </tbody>\n",
              "</table>\n",
              "</div>"
            ],
            "text/plain": [
              "     movieId  userId                                       Bag_of_words\n",
              "499      565    6583  claudio brook criterion frederico luppi guille...\n",
              "500      566   10219                     writers comedy musical romance\n",
              "501      567    3033  almodovar clv pedro almodovar pedro almodã³var...\n",
              "502      568    1546                   directorial debut comedy musical\n",
              "503      569    7983            andrew scheinman baseball drama romance"
            ]
          },
          "metadata": {
            "tags": []
          },
          "execution_count": 13
        }
      ]
    },
    {
      "cell_type": "code",
      "metadata": {
        "id": "MR5BKwhTSf15"
      },
      "source": [
        "movie_names = combined_small[['movieId','title']].drop_duplicates()\n",
        "#mergin movie names and bag_of_word we created\n",
        "final = pd.merge(left=merged,right=movie_names,on='movieId',how='right')\n",
        "final.dropna(inplace=True)\n",
        "final.drop(columns=['movieId','userId'],inplace=True)\n",
        "final['title'] = final['title'].apply(lambda x: x.lower())"
      ],
      "execution_count": 14,
      "outputs": []
    },
    {
      "cell_type": "code",
      "metadata": {
        "colab": {
          "base_uri": "https://localhost:8080/",
          "height": 198
        },
        "id": "mUbOpO_SShsx",
        "outputId": "2f70489e-3ae1-4940-8c4c-be8715758311"
      },
      "source": [
        "final.head(5)"
      ],
      "execution_count": 15,
      "outputs": [
        {
          "output_type": "execute_result",
          "data": {
            "text/html": [
              "<div>\n",
              "<style scoped>\n",
              "    .dataframe tbody tr th:only-of-type {\n",
              "        vertical-align: middle;\n",
              "    }\n",
              "\n",
              "    .dataframe tbody tr th {\n",
              "        vertical-align: top;\n",
              "    }\n",
              "\n",
              "    .dataframe thead th {\n",
              "        text-align: right;\n",
              "    }\n",
              "</style>\n",
              "<table border=\"1\" class=\"dataframe\">\n",
              "  <thead>\n",
              "    <tr style=\"text-align: right;\">\n",
              "      <th></th>\n",
              "      <th>Bag_of_words</th>\n",
              "      <th>title</th>\n",
              "    </tr>\n",
              "  </thead>\n",
              "  <tbody>\n",
              "    <tr>\n",
              "      <th>0</th>\n",
              "      <td>2009 reissue in stereoscopic 3 d 3d 55 movies ...</td>\n",
              "      <td>toy story (1995)</td>\n",
              "    </tr>\n",
              "    <tr>\n",
              "      <th>1</th>\n",
              "      <td>clv children chris van allsburg dynamic cgi ac...</td>\n",
              "      <td>jumanji (1995)</td>\n",
              "    </tr>\n",
              "    <tr>\n",
              "      <th>2</th>\n",
              "      <td>clv funniest movies howard deutch jack lemmon ...</td>\n",
              "      <td>grumpier old men (1995)</td>\n",
              "    </tr>\n",
              "    <tr>\n",
              "      <th>3</th>\n",
              "      <td>clv characters chick flick revenge comedy</td>\n",
              "      <td>waiting to exhale (1995)</td>\n",
              "    </tr>\n",
              "    <tr>\n",
              "      <th>4</th>\n",
              "      <td>clv comedy diane keaton fantasy steve martin t...</td>\n",
              "      <td>father of the bride part ii (1995)</td>\n",
              "    </tr>\n",
              "  </tbody>\n",
              "</table>\n",
              "</div>"
            ],
            "text/plain": [
              "                                        Bag_of_words                               title\n",
              "0  2009 reissue in stereoscopic 3 d 3d 55 movies ...                    toy story (1995)\n",
              "1  clv children chris van allsburg dynamic cgi ac...                      jumanji (1995)\n",
              "2  clv funniest movies howard deutch jack lemmon ...             grumpier old men (1995)\n",
              "3          clv characters chick flick revenge comedy            waiting to exhale (1995)\n",
              "4  clv comedy diane keaton fantasy steve martin t...  father of the bride part ii (1995)"
            ]
          },
          "metadata": {
            "tags": []
          },
          "execution_count": 15
        }
      ]
    },
    {
      "cell_type": "code",
      "metadata": {
        "id": "R_xWiiYcS5YZ"
      },
      "source": [
        "#calculating cosime similarity\n",
        "count = CountVectorizer()\n",
        "count_matrix = count.fit_transform(final['Bag_of_words'])\n",
        "cosine_sim = cosine_similarity(count_matrix,count_matrix)"
      ],
      "execution_count": 16,
      "outputs": []
    },
    {
      "cell_type": "code",
      "metadata": {
        "id": "NFwlr_TKS1Vg"
      },
      "source": [
        "#function to recommend movies\n",
        "indices = pd.Series(final['title'])\n",
        "def recommend(title, cosine_sim = cosine_sim):\n",
        "    recommended_movies = []\n",
        "    idx = indices[indices.str.contains(title)].index[0]\n",
        "    score_series = pd.Series(cosine_sim[idx]).sort_values(ascending = False)\n",
        "    top_10_indices = list(score_series.iloc[1:11].index)\n",
        "    \n",
        "    for i in top_10_indices:\n",
        "        recommended_movies.append(list(final['title'])[i])\n",
        "        \n",
        "    return recommended_movies"
      ],
      "execution_count": 17,
      "outputs": []
    },
    {
      "cell_type": "code",
      "metadata": {
        "colab": {
          "base_uri": "https://localhost:8080/"
        },
        "id": "Ux2jEpFwS2fJ",
        "outputId": "20d3cfe5-596f-465d-a256-cae4a8018fa8"
      },
      "source": [
        "recommend('toy story')"
      ],
      "execution_count": 18,
      "outputs": [
        {
          "output_type": "execute_result",
          "data": {
            "text/plain": [
              "['lion king, the (1994)',\n",
              " 'nightmare before christmas, the (1993)',\n",
              " 'jurassic park (1993)',\n",
              " 'pulp fiction (1994)',\n",
              " 'jumanji (1995)',\n",
              " 'star wars: episode iv - a new hope (1977)',\n",
              " 'apollo 13 (1995)',\n",
              " 'swan princess, the (1994)',\n",
              " 'forrest gump (1994)',\n",
              " 'shawshank redemption, the (1994)']"
            ]
          },
          "metadata": {
            "tags": []
          },
          "execution_count": 18
        }
      ]
    }
  ]
}