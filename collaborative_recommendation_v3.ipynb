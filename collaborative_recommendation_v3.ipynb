{
  "nbformat": 4,
  "nbformat_minor": 0,
  "metadata": {
    "colab": {
      "name": "collaborative_recommendation_v3.ipynb",
      "provenance": [],
      "collapsed_sections": [],
      "machine_shape": "hm"
    },
    "kernelspec": {
      "display_name": "Python 3",
      "name": "python3"
    }
  },
  "cells": [
    {
      "cell_type": "code",
      "metadata": {
        "colab": {
          "base_uri": "https://localhost:8080/"
        },
        "id": "12JLtYM_AOX9",
        "outputId": "88a7c465-fdb9-42ae-a887-1ad134c57c1e"
      },
      "source": [
        "!pip install surprise"
      ],
      "execution_count": null,
      "outputs": [
        {
          "output_type": "stream",
          "text": [
            "Requirement already satisfied: surprise in /usr/local/lib/python3.6/dist-packages (0.1)\n",
            "Requirement already satisfied: scikit-surprise in /usr/local/lib/python3.6/dist-packages (from surprise) (1.1.1)\n",
            "Requirement already satisfied: scipy>=1.0.0 in /usr/local/lib/python3.6/dist-packages (from scikit-surprise->surprise) (1.4.1)\n",
            "Requirement already satisfied: six>=1.10.0 in /usr/local/lib/python3.6/dist-packages (from scikit-surprise->surprise) (1.15.0)\n",
            "Requirement already satisfied: joblib>=0.11 in /usr/local/lib/python3.6/dist-packages (from scikit-surprise->surprise) (0.17.0)\n",
            "Requirement already satisfied: numpy>=1.11.2 in /usr/local/lib/python3.6/dist-packages (from scikit-surprise->surprise) (1.18.5)\n"
          ],
          "name": "stdout"
        }
      ]
    },
    {
      "cell_type": "code",
      "metadata": {
        "id": "FUFhfAzUMSOi"
      },
      "source": [
        "import pandas as pd\n",
        "import numpy as np\n",
        "import matplotlib.pyplot as plt\n",
        "import seaborn as sns\n",
        "import surprise\n",
        "from surprise import SVD\n",
        "from surprise import accuracy\n",
        "from surprise import KNNBasic, KNNWithMeans, KNNBaseline\n",
        "from surprise import Reader\n",
        "from surprise.model_selection import train_test_split\n",
        "from surprise import  Dataset\n",
        "from surprise.model_selection import cross_validate,GridSearchCV\n",
        "import re\n",
        "import random  "
      ],
      "execution_count": null,
      "outputs": []
    },
    {
      "cell_type": "code",
      "metadata": {
        "id": "SYXtb-x6MsFd"
      },
      "source": [
        "movie_df = pd.read_csv('/content/drive/MyDrive/Colab Notebooks/movie_lens/movie.csv')\n",
        "rating_df = pd.read_csv('/content/drive/MyDrive/Colab Notebooks/movie_lens/rating.csv')\n",
        "link_df = pd.read_csv('/content/drive/MyDrive/Colab Notebooks/movie_lens/link.csv')\n",
        "tag_df = pd.read_csv('/content/drive/MyDrive/Colab Notebooks/movie_lens/tag.csv')\n",
        "genome_tags_df = pd.read_csv('/content/drive/MyDrive/Colab Notebooks/movie_lens/genome_tags.csv')\n",
        "genome_scores_df = pd.read_csv('/content/drive/MyDrive/Colab Notebooks/movie_lens/genome_scores.csv')"
      ],
      "execution_count": null,
      "outputs": []
    },
    {
      "cell_type": "code",
      "metadata": {
        "id": "CNcTGdJN5HHT"
      },
      "source": [
        "movie_df = pd.concat([movie_df,link_df],axis=1)\n",
        "movie_df = movie_df.loc[:,~movie_df.columns.duplicated()]"
      ],
      "execution_count": null,
      "outputs": []
    },
    {
      "cell_type": "code",
      "metadata": {
        "colab": {
          "base_uri": "https://localhost:8080/",
          "height": 198
        },
        "id": "ks76OE0U5Kbi",
        "outputId": "392f884e-053e-4011-fdf0-27933b94630f"
      },
      "source": [
        "movie_df.head(5)"
      ],
      "execution_count": null,
      "outputs": [
        {
          "output_type": "execute_result",
          "data": {
            "text/html": [
              "<div>\n",
              "<style scoped>\n",
              "    .dataframe tbody tr th:only-of-type {\n",
              "        vertical-align: middle;\n",
              "    }\n",
              "\n",
              "    .dataframe tbody tr th {\n",
              "        vertical-align: top;\n",
              "    }\n",
              "\n",
              "    .dataframe thead th {\n",
              "        text-align: right;\n",
              "    }\n",
              "</style>\n",
              "<table border=\"1\" class=\"dataframe\">\n",
              "  <thead>\n",
              "    <tr style=\"text-align: right;\">\n",
              "      <th></th>\n",
              "      <th>movieId</th>\n",
              "      <th>title</th>\n",
              "      <th>genres</th>\n",
              "      <th>imdbId</th>\n",
              "      <th>tmdbId</th>\n",
              "    </tr>\n",
              "  </thead>\n",
              "  <tbody>\n",
              "    <tr>\n",
              "      <th>0</th>\n",
              "      <td>1</td>\n",
              "      <td>Toy Story (1995)</td>\n",
              "      <td>Adventure|Animation|Children|Comedy|Fantasy</td>\n",
              "      <td>114709</td>\n",
              "      <td>862.0</td>\n",
              "    </tr>\n",
              "    <tr>\n",
              "      <th>1</th>\n",
              "      <td>2</td>\n",
              "      <td>Jumanji (1995)</td>\n",
              "      <td>Adventure|Children|Fantasy</td>\n",
              "      <td>113497</td>\n",
              "      <td>8844.0</td>\n",
              "    </tr>\n",
              "    <tr>\n",
              "      <th>2</th>\n",
              "      <td>3</td>\n",
              "      <td>Grumpier Old Men (1995)</td>\n",
              "      <td>Comedy|Romance</td>\n",
              "      <td>113228</td>\n",
              "      <td>15602.0</td>\n",
              "    </tr>\n",
              "    <tr>\n",
              "      <th>3</th>\n",
              "      <td>4</td>\n",
              "      <td>Waiting to Exhale (1995)</td>\n",
              "      <td>Comedy|Drama|Romance</td>\n",
              "      <td>114885</td>\n",
              "      <td>31357.0</td>\n",
              "    </tr>\n",
              "    <tr>\n",
              "      <th>4</th>\n",
              "      <td>5</td>\n",
              "      <td>Father of the Bride Part II (1995)</td>\n",
              "      <td>Comedy</td>\n",
              "      <td>113041</td>\n",
              "      <td>11862.0</td>\n",
              "    </tr>\n",
              "  </tbody>\n",
              "</table>\n",
              "</div>"
            ],
            "text/plain": [
              "   movieId                               title  ...  imdbId   tmdbId\n",
              "0        1                    Toy Story (1995)  ...  114709    862.0\n",
              "1        2                      Jumanji (1995)  ...  113497   8844.0\n",
              "2        3             Grumpier Old Men (1995)  ...  113228  15602.0\n",
              "3        4            Waiting to Exhale (1995)  ...  114885  31357.0\n",
              "4        5  Father of the Bride Part II (1995)  ...  113041  11862.0\n",
              "\n",
              "[5 rows x 5 columns]"
            ]
          },
          "metadata": {
            "tags": []
          },
          "execution_count": 5
        }
      ]
    },
    {
      "cell_type": "markdown",
      "metadata": {
        "id": "XO1-ArRNNiEV"
      },
      "source": [
        "### Cleaning Data\n"
      ]
    },
    {
      "cell_type": "code",
      "metadata": {
        "id": "szKBWys8v7-Q"
      },
      "source": [
        "#function returns a small sample of rating and movie data combined (5 million data)\n",
        "def movie_rating_sample_data(movie_df,rating_df):\n",
        "  movie_rating_combined = pd.merge(movie_df,rating_df,on='movieId')\n",
        "  combined_small = movie_rating_combined\n",
        "  return combined_small"
      ],
      "execution_count": null,
      "outputs": []
    },
    {
      "cell_type": "code",
      "metadata": {
        "id": "PeXDvZbcx_v_"
      },
      "source": [
        "#function to remove rating counts less than 1000\n",
        "def filter_less_thrsh(combined_small,thresh = 1000):\n",
        "  combined_small = combined_small[combined_small.groupby('title').rating.transform('count')>thresh]\n",
        "  return combined_small"
      ],
      "execution_count": null,
      "outputs": []
    },
    {
      "cell_type": "code",
      "metadata": {
        "id": "48pToP8Y9MGQ"
      },
      "source": [
        "#function to remove and rename columns\n",
        "def remove_rename(combined_small):\n",
        "  combined_small = combined_small[['userId','movieId','rating']]\n",
        "  combined_small = combined_small.rename(columns={'userId':'user','movieId':'item',})\n",
        "  return combined_small"
      ],
      "execution_count": null,
      "outputs": []
    },
    {
      "cell_type": "code",
      "metadata": {
        "id": "zXyewtbyzE47"
      },
      "source": [
        "combined_small = movie_rating_sample_data(movie_df,rating_df)\n",
        "combined_small = filter_less_thrsh(combined_small)"
      ],
      "execution_count": null,
      "outputs": []
    },
    {
      "cell_type": "code",
      "metadata": {
        "colab": {
          "base_uri": "https://localhost:8080/",
          "height": 198
        },
        "id": "NfVJhWNZznXt",
        "outputId": "45fd978a-2264-4ae7-813b-99b948a24202"
      },
      "source": [
        "#lets check our data\n",
        "combined_small.tail()"
      ],
      "execution_count": null,
      "outputs": [
        {
          "output_type": "execute_result",
          "data": {
            "text/html": [
              "<div>\n",
              "<style scoped>\n",
              "    .dataframe tbody tr th:only-of-type {\n",
              "        vertical-align: middle;\n",
              "    }\n",
              "\n",
              "    .dataframe tbody tr th {\n",
              "        vertical-align: top;\n",
              "    }\n",
              "\n",
              "    .dataframe thead th {\n",
              "        text-align: right;\n",
              "    }\n",
              "</style>\n",
              "<table border=\"1\" class=\"dataframe\">\n",
              "  <thead>\n",
              "    <tr style=\"text-align: right;\">\n",
              "      <th></th>\n",
              "      <th>user</th>\n",
              "      <th>item</th>\n",
              "      <th>rating</th>\n",
              "    </tr>\n",
              "  </thead>\n",
              "  <tbody>\n",
              "    <tr>\n",
              "      <th>19985523</th>\n",
              "      <td>28195</td>\n",
              "      <td>114240</td>\n",
              "      <td>4.0</td>\n",
              "    </tr>\n",
              "    <tr>\n",
              "      <th>19985524</th>\n",
              "      <td>51334</td>\n",
              "      <td>114240</td>\n",
              "      <td>3.0</td>\n",
              "    </tr>\n",
              "    <tr>\n",
              "      <th>19985525</th>\n",
              "      <td>120575</td>\n",
              "      <td>114240</td>\n",
              "      <td>2.5</td>\n",
              "    </tr>\n",
              "    <tr>\n",
              "      <th>19985526</th>\n",
              "      <td>124998</td>\n",
              "      <td>114240</td>\n",
              "      <td>2.5</td>\n",
              "    </tr>\n",
              "    <tr>\n",
              "      <th>19985527</th>\n",
              "      <td>138177</td>\n",
              "      <td>114240</td>\n",
              "      <td>4.0</td>\n",
              "    </tr>\n",
              "  </tbody>\n",
              "</table>\n",
              "</div>"
            ],
            "text/plain": [
              "            user    item  rating\n",
              "19985523   28195  114240     4.0\n",
              "19985524   51334  114240     3.0\n",
              "19985525  120575  114240     2.5\n",
              "19985526  124998  114240     2.5\n",
              "19985527  138177  114240     4.0"
            ]
          },
          "metadata": {
            "tags": []
          },
          "execution_count": 19
        }
      ]
    },
    {
      "cell_type": "markdown",
      "metadata": {
        "id": "1qWNbn2aWUXL"
      },
      "source": [
        "## Building Collaborative filtering"
      ]
    },
    {
      "cell_type": "code",
      "metadata": {
        "colab": {
          "base_uri": "https://localhost:8080/"
        },
        "id": "Bk3v_Ybq_S0g",
        "outputId": "46fed27c-ad49-4aac-fb68-2808fb7ff25c"
      },
      "source": [
        "print(len(combined_small['title'].unique()))"
      ],
      "execution_count": null,
      "outputs": [
        {
          "output_type": "stream",
          "text": [
            "3159\n"
          ],
          "name": "stdout"
        }
      ]
    },
    {
      "cell_type": "code",
      "metadata": {
        "id": "OS5tJV-G9Rbz"
      },
      "source": [
        "#remove columns and rename them\n",
        "combined_small = remove_rename(combined_small)"
      ],
      "execution_count": null,
      "outputs": []
    },
    {
      "cell_type": "code",
      "metadata": {
        "colab": {
          "base_uri": "https://localhost:8080/",
          "height": 198
        },
        "id": "oT9BUR9Gl42h",
        "outputId": "6efeac90-d500-4247-c41b-3b8ccb941f52"
      },
      "source": [
        "#combined_small.drop(['genres','title'],inplace=True,axis=1)\n",
        "combined_small.tail(5)"
      ],
      "execution_count": null,
      "outputs": [
        {
          "output_type": "execute_result",
          "data": {
            "text/html": [
              "<div>\n",
              "<style scoped>\n",
              "    .dataframe tbody tr th:only-of-type {\n",
              "        vertical-align: middle;\n",
              "    }\n",
              "\n",
              "    .dataframe tbody tr th {\n",
              "        vertical-align: top;\n",
              "    }\n",
              "\n",
              "    .dataframe thead th {\n",
              "        text-align: right;\n",
              "    }\n",
              "</style>\n",
              "<table border=\"1\" class=\"dataframe\">\n",
              "  <thead>\n",
              "    <tr style=\"text-align: right;\">\n",
              "      <th></th>\n",
              "      <th>user</th>\n",
              "      <th>item</th>\n",
              "      <th>rating</th>\n",
              "    </tr>\n",
              "  </thead>\n",
              "  <tbody>\n",
              "    <tr>\n",
              "      <th>19985523</th>\n",
              "      <td>28195</td>\n",
              "      <td>114240</td>\n",
              "      <td>4.0</td>\n",
              "    </tr>\n",
              "    <tr>\n",
              "      <th>19985524</th>\n",
              "      <td>51334</td>\n",
              "      <td>114240</td>\n",
              "      <td>3.0</td>\n",
              "    </tr>\n",
              "    <tr>\n",
              "      <th>19985525</th>\n",
              "      <td>120575</td>\n",
              "      <td>114240</td>\n",
              "      <td>2.5</td>\n",
              "    </tr>\n",
              "    <tr>\n",
              "      <th>19985526</th>\n",
              "      <td>124998</td>\n",
              "      <td>114240</td>\n",
              "      <td>2.5</td>\n",
              "    </tr>\n",
              "    <tr>\n",
              "      <th>19985527</th>\n",
              "      <td>138177</td>\n",
              "      <td>114240</td>\n",
              "      <td>4.0</td>\n",
              "    </tr>\n",
              "  </tbody>\n",
              "</table>\n",
              "</div>"
            ],
            "text/plain": [
              "            user    item  rating\n",
              "19985523   28195  114240     4.0\n",
              "19985524   51334  114240     3.0\n",
              "19985525  120575  114240     2.5\n",
              "19985526  124998  114240     2.5\n",
              "19985527  138177  114240     4.0"
            ]
          },
          "metadata": {
            "tags": []
          },
          "execution_count": 18
        }
      ]
    },
    {
      "cell_type": "code",
      "metadata": {
        "id": "RAe2Is9WubiM"
      },
      "source": [
        "# combined_small.to_csv('/content/drive/MyDrive/Colab Notebooks/movie_lens/combined_small_v2.csv')"
      ],
      "execution_count": null,
      "outputs": []
    },
    {
      "cell_type": "code",
      "metadata": {
        "colab": {
          "base_uri": "https://localhost:8080/"
        },
        "id": "K23NdYHar06s",
        "outputId": "8e31b9e1-9aa5-4137-cee7-9e5bd50f62a0"
      },
      "source": [
        "reader = Reader(rating_scale=(1, 5))\n",
        "data = Dataset.load_from_df(combined_small, reader)\n",
        "raw_ratings  = data.raw_ratings\n",
        "\n",
        "#shuffle ratings\n",
        "random.shuffle(raw_ratings)\n",
        "\n",
        "#90% trainset, 10% testset\n",
        "threshold = int(.9 * len(raw_ratings))\n",
        "trainset_raw_ratings = raw_ratings[:threshold]\n",
        "test_raw_ratings = raw_ratings[threshold:]\n",
        "\n",
        "data.raw_ratings = trainset_raw_ratings #data is your trainset\n",
        "\n",
        "#selecting algorithm and grid search\n",
        "print('grid search ....')\n",
        "\n",
        "param_grid = {\n",
        "    'n_epochs':[5],\n",
        "    'lr_all':[0.1,0.8]\n",
        "}\n",
        "grid_search = GridSearchCV(SVD, param_grid, measures=['rmse','mae'], joblib_verbose=2)\n",
        "grid_search.fit(data)\n",
        "algo = grid_search.best_estimator['rmse']\n"
      ],
      "execution_count": null,
      "outputs": [
        {
          "output_type": "stream",
          "text": [
            "grid search ....\n"
          ],
          "name": "stdout"
        },
        {
          "output_type": "stream",
          "text": [
            "[Parallel(n_jobs=1)]: Using backend SequentialBackend with 1 concurrent workers.\n",
            "[Parallel(n_jobs=1)]: Done   1 out of   1 | elapsed:  6.3min remaining:    0.0s\n",
            "[Parallel(n_jobs=1)]: Done  10 out of  10 | elapsed: 61.5min finished\n"
          ],
          "name": "stderr"
        }
      ]
    },
    {
      "cell_type": "code",
      "metadata": {
        "colab": {
          "background_save": true
        },
        "id": "M8SpFM1D4_iW",
        "outputId": "00b1d192-86a1-44c1-e7a6-d0bc34f48cf2"
      },
      "source": [
        "# retrain on the whole train set                                           \n",
        "trainset = data.build_full_trainset()                                      \n",
        "algo.fit(trainset)  \n",
        "# now test on the testset                                                  \n",
        "testset = data.construct_testset(test_raw_ratings)                         \n",
        "predictions = algo.test(testset)                                           \n",
        "print('Accuracy on the testset:')                                          \n",
        "print(accuracy.rmse(predictions))\n",
        "surprise.dump.dump('/content/drive/MyDrive/Colab Notebooks/movie_lens/my_model_v3',predictions=predictions)  "
      ],
      "execution_count": null,
      "outputs": [
        {
          "output_type": "stream",
          "text": [
            "Accuracy on the testset:\n",
            "RMSE: 0.9801\n",
            "0.9800557814867045\n"
          ],
          "name": "stdout"
        }
      ]
    },
    {
      "cell_type": "code",
      "metadata": {
        "colab": {
          "background_save": true
        },
        "id": "uMESyLiKXEhN",
        "outputId": "68b60603-16e8-4406-ae12-4ac252c771fa"
      },
      "source": [
        "predictions[1]"
      ],
      "execution_count": null,
      "outputs": [
        {
          "output_type": "execute_result",
          "data": {
            "text/plain": [
              "Prediction(uid=85685, iid=329, r_ui=5.0, est=4.181642435783127, details={'was_impossible': False})"
            ]
          },
          "metadata": {
            "tags": []
          },
          "execution_count": 0
        }
      ]
    }
  ]
}