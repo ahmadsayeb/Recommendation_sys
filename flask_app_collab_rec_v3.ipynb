{
  "nbformat": 4,
  "nbformat_minor": 0,
  "metadata": {
    "colab": {
      "name": "flask_app_collab_rec_v3.ipynb",
      "provenance": [],
      "collapsed_sections": []
    },
    "kernelspec": {
      "name": "python3",
      "display_name": "Python 3"
    }
  },
  "cells": [
    {
      "cell_type": "code",
      "metadata": {
        "colab": {
          "base_uri": "https://localhost:8080/"
        },
        "id": "i1ofpouY3jKh",
        "outputId": "131163e5-ea6e-478f-e745-fe418766a65c"
      },
      "source": [
        "!pip install flask-ngrok"
      ],
      "execution_count": 3,
      "outputs": [
        {
          "output_type": "stream",
          "text": [
            "Collecting flask-ngrok\n",
            "  Downloading https://files.pythonhosted.org/packages/af/6c/f54cb686ad1129e27d125d182f90f52b32f284e6c8df58c1bae54fa1adbc/flask_ngrok-0.0.25-py3-none-any.whl\n",
            "Requirement already satisfied: requests in /usr/local/lib/python3.6/dist-packages (from flask-ngrok) (2.23.0)\n",
            "Requirement already satisfied: Flask>=0.8 in /usr/local/lib/python3.6/dist-packages (from flask-ngrok) (1.1.2)\n",
            "Requirement already satisfied: chardet<4,>=3.0.2 in /usr/local/lib/python3.6/dist-packages (from requests->flask-ngrok) (3.0.4)\n",
            "Requirement already satisfied: urllib3!=1.25.0,!=1.25.1,<1.26,>=1.21.1 in /usr/local/lib/python3.6/dist-packages (from requests->flask-ngrok) (1.24.3)\n",
            "Requirement already satisfied: idna<3,>=2.5 in /usr/local/lib/python3.6/dist-packages (from requests->flask-ngrok) (2.10)\n",
            "Requirement already satisfied: certifi>=2017.4.17 in /usr/local/lib/python3.6/dist-packages (from requests->flask-ngrok) (2020.11.8)\n",
            "Requirement already satisfied: Werkzeug>=0.15 in /usr/local/lib/python3.6/dist-packages (from Flask>=0.8->flask-ngrok) (1.0.1)\n",
            "Requirement already satisfied: click>=5.1 in /usr/local/lib/python3.6/dist-packages (from Flask>=0.8->flask-ngrok) (7.1.2)\n",
            "Requirement already satisfied: Jinja2>=2.10.1 in /usr/local/lib/python3.6/dist-packages (from Flask>=0.8->flask-ngrok) (2.11.2)\n",
            "Requirement already satisfied: itsdangerous>=0.24 in /usr/local/lib/python3.6/dist-packages (from Flask>=0.8->flask-ngrok) (1.1.0)\n",
            "Requirement already satisfied: MarkupSafe>=0.23 in /usr/local/lib/python3.6/dist-packages (from Jinja2>=2.10.1->Flask>=0.8->flask-ngrok) (1.1.1)\n",
            "Installing collected packages: flask-ngrok\n",
            "Successfully installed flask-ngrok-0.0.25\n"
          ],
          "name": "stdout"
        }
      ]
    },
    {
      "cell_type": "code",
      "metadata": {
        "colab": {
          "base_uri": "https://localhost:8080/"
        },
        "id": "t6izNiNW9L9N",
        "outputId": "a4a0fd25-fbfa-4ccc-d2cf-dcfc6e615093"
      },
      "source": [
        "!pip install surprise"
      ],
      "execution_count": 4,
      "outputs": [
        {
          "output_type": "stream",
          "text": [
            "Collecting surprise\n",
            "  Downloading https://files.pythonhosted.org/packages/61/de/e5cba8682201fcf9c3719a6fdda95693468ed061945493dea2dd37c5618b/surprise-0.1-py2.py3-none-any.whl\n",
            "Collecting scikit-surprise\n",
            "\u001b[?25l  Downloading https://files.pythonhosted.org/packages/97/37/5d334adaf5ddd65da99fc65f6507e0e4599d092ba048f4302fe8775619e8/scikit-surprise-1.1.1.tar.gz (11.8MB)\n",
            "\u001b[K     |████████████████████████████████| 11.8MB 4.1MB/s \n",
            "\u001b[?25hRequirement already satisfied: joblib>=0.11 in /usr/local/lib/python3.6/dist-packages (from scikit-surprise->surprise) (0.17.0)\n",
            "Requirement already satisfied: numpy>=1.11.2 in /usr/local/lib/python3.6/dist-packages (from scikit-surprise->surprise) (1.18.5)\n",
            "Requirement already satisfied: scipy>=1.0.0 in /usr/local/lib/python3.6/dist-packages (from scikit-surprise->surprise) (1.4.1)\n",
            "Requirement already satisfied: six>=1.10.0 in /usr/local/lib/python3.6/dist-packages (from scikit-surprise->surprise) (1.15.0)\n",
            "Building wheels for collected packages: scikit-surprise\n",
            "  Building wheel for scikit-surprise (setup.py) ... \u001b[?25l\u001b[?25hdone\n",
            "  Created wheel for scikit-surprise: filename=scikit_surprise-1.1.1-cp36-cp36m-linux_x86_64.whl size=1670955 sha256=0d62d36f6d94303101af10515d972b6d1fcac2af42193fc778ad8eca8f2f6b4f\n",
            "  Stored in directory: /root/.cache/pip/wheels/78/9c/3d/41b419c9d2aff5b6e2b4c0fc8d25c538202834058f9ed110d0\n",
            "Successfully built scikit-surprise\n",
            "Installing collected packages: scikit-surprise, surprise\n",
            "Successfully installed scikit-surprise-1.1.1 surprise-0.1\n"
          ],
          "name": "stdout"
        }
      ]
    },
    {
      "cell_type": "code",
      "metadata": {
        "id": "cofljbt09Oal"
      },
      "source": [
        "import pandas as pd\n",
        "import pickle\n",
        "import requests\n",
        "import json\n",
        "from flask import Flask, request, jsonify\n",
        "import surprise\n",
        "from flask_ngrok import run_with_ngrok\n",
        "from flask import Flask\n",
        "import re"
      ],
      "execution_count": 5,
      "outputs": []
    },
    {
      "cell_type": "code",
      "metadata": {
        "id": "D_GpkLFRCzdc"
      },
      "source": [
        "def string_preprocess(row):\n",
        "  text = row\n",
        "  text = str(text)\n",
        "  text = re.sub(r'\\(\\d+\\)', '', text)\n",
        "  text = text.lower()\n",
        "  return text"
      ],
      "execution_count": 6,
      "outputs": []
    },
    {
      "cell_type": "code",
      "metadata": {
        "colab": {
          "base_uri": "https://localhost:8080/"
        },
        "id": "Q9c-usfz9NXN",
        "outputId": "dd1d8bca-d08e-479b-8366-4ab744c741b0"
      },
      "source": [
        "app = Flask(__name__)\n",
        "run_with_ngrok(app)\n",
        "movie_df = pd.read_csv('/content/drive/MyDrive/Colab Notebooks/movie_lens/movie.csv')\n",
        "rating_df = pd.read_csv('/content/drive/MyDrive/Colab Notebooks/movie_lens/rating.csv')\n",
        "link_df = pd.read_csv('/content/drive/MyDrive/Colab Notebooks/movie_lens/link.csv')\n",
        "combined_small = pd.read_csv('/content/drive/MyDrive/Colab Notebooks/movie_lens/combined_small_v2.csv')\n",
        "model = surprise.dump.load('/content/drive/MyDrive/Colab Notebooks/movie_lens/my_model_v3')\n",
        "predictions = model[0]\n",
        "print(predictions[0])\n",
        "#create index item name and value item id series\n",
        "movie_rating_combined = pd.merge(movie_df,rating_df,on='movieId')\n",
        "movie_info_small = movie_rating_combined.iloc[:5000000]\n",
        "movie_info_small['title'] = movie_info_small['title'].apply(string_preprocess)\n",
        "movies_list_id = pd.Series(movie_info_small['movieId'].unique(),\n",
        "                            index=movie_info_small['title'].unique())\n",
        "\n",
        "\n",
        "@app.route('/api',methods=['GET'])\n",
        "def get_api_recommendation():\n",
        "  item_id = []\n",
        "  movie_name = request.args.get('title')\n",
        "  movie_id = movies_list_id.loc[movies_list_id.index == movie_name][0]\n",
        "  user_id = combined_small.loc[combined_small.item == movie_id]['user'].tolist()[:5]\n",
        "  for id in user_id:\n",
        "    for i in range(len(predictions)):\n",
        "      if predictions[i].uid == id:\n",
        "        item_id.append(predictions[i].iid)\n",
        "  movies_names = movies_list_id.loc[movies_list_id.isin(item_id)].index.tolist()[:5]\n",
        "  return jsonify(movies_names)\n",
        "\n",
        "@app.route('/movie',methods=['GET'])\n",
        "def get_movies_recommendation():\n",
        "  movie_name = request.args.get('title')\n",
        "  movie_name = movie_name.lower()\n",
        "  item_id = []\n",
        "  rating = []\n",
        "  movie_id = movies_list_id.loc[movies_list_id.index.str.contains(movie_name)][0]\n",
        "  user_id = combined_small.loc[combined_small.item == movie_id]['user'].tolist()[:5]\n",
        "  for id in user_id:\n",
        "    for i in range(len(predictions)):\n",
        "      if predictions[i].uid == id:\n",
        "        item_id.append(predictions[i].iid)\n",
        "        rating.append(predictions[i].est)\n",
        "  movies_names = movies_list_id.loc[movies_list_id.isin(item_id)].index.tolist()[:5]\n",
        "  for names in movies_names:\n",
        "    if names.strip() == movie_name:\n",
        "      movies_names.remove(names)\n",
        "      movies_names.append(movies_list_id.loc[movies_list_id.isin(item_id)].index.tolist()[6])\n",
        "  final = dict(zip(movies_names,rating))\n",
        "  return jsonify(final)\n",
        "\n",
        "@app.route('/tmdb',methods=['GET'])\n",
        "def tmdb_call():\n",
        "  movie_name = request.args.get('title')\n",
        "  movie_name = movie_name.lower()\n",
        "  item_id = []\n",
        "  rating_id = []\n",
        "  movie_id = movies_list_id.loc[movies_list_id.index.str.contains(movie_name)][0]\n",
        "  user_id = combined_small.loc[combined_small.item == movie_id]['user'].tolist()[:5]\n",
        "  for id in user_id:\n",
        "    for i in range(len(predictions)):\n",
        "      if predictions[i].uid == id:\n",
        "        item_id.append(predictions[i].iid)\n",
        "        rating_id.append((predictions[i].est,predictions[i].iid))\n",
        "  movies_names = movies_list_id.loc[movies_list_id.isin(item_id)].index.tolist()[:5]\n",
        "  final = dict(zip(movies_names,rating_id))\n",
        "  movies = final\n",
        "  movie_ids = []\n",
        "  datas = []\n",
        "\n",
        "  #getting the ids of the movies\n",
        "  for key,value in movies.items():\n",
        "    movie_ids.append(value[1])\n",
        "\n",
        "  #collecting the tmdb id for link_df\n",
        "  tmdb_ids = link_df.loc[link_df.movieId.isin(movie_ids)]['tmdbId'].values.tolist()\n",
        "  for id in tmdb_ids:\n",
        "    url = f\"https://api.themoviedb.org/3/movie/{id}?api_key=f86248c492db78432f0f03f7246698d6\"\n",
        "    resp = requests.get(url=url)\n",
        "    data = resp.json()\n",
        "    datas.append(data)\n",
        "  \n",
        "  return jsonify(datas)\n",
        "\n",
        "if __name__=='__main__':\n",
        "    app.run()\n",
        "    "
      ],
      "execution_count": 22,
      "outputs": [
        {
          "output_type": "stream",
          "text": [
            "user: 16423      item: 7153       r_ui = 3.50   est = 5.00   {'was_impossible': False}\n"
          ],
          "name": "stdout"
        },
        {
          "output_type": "stream",
          "text": [
            "/usr/local/lib/python3.6/dist-packages/ipykernel_launcher.py:13: SettingWithCopyWarning: \n",
            "A value is trying to be set on a copy of a slice from a DataFrame.\n",
            "Try using .loc[row_indexer,col_indexer] = value instead\n",
            "\n",
            "See the caveats in the documentation: https://pandas.pydata.org/pandas-docs/stable/user_guide/indexing.html#returning-a-view-versus-a-copy\n",
            "  del sys.path[0]\n"
          ],
          "name": "stderr"
        },
        {
          "output_type": "stream",
          "text": [
            " * Serving Flask app \"__main__\" (lazy loading)\n",
            " * Environment: production\n",
            "\u001b[31m   WARNING: This is a development server. Do not use it in a production deployment.\u001b[0m\n",
            "\u001b[2m   Use a production WSGI server instead.\u001b[0m\n",
            " * Debug mode: off\n"
          ],
          "name": "stdout"
        },
        {
          "output_type": "stream",
          "text": [
            " * Running on http://127.0.0.1:5000/ (Press CTRL+C to quit)\n"
          ],
          "name": "stderr"
        },
        {
          "output_type": "stream",
          "text": [
            " * Running on http://a5fa7ad1e876.ngrok.io\n",
            " * Traffic stats available on http://127.0.0.1:4040\n"
          ],
          "name": "stdout"
        },
        {
          "output_type": "stream",
          "text": [
            "127.0.0.1 - - [27/Nov/2020 19:53:57] \"\u001b[37mGET /tmdb?title=virtuosity HTTP/1.1\u001b[0m\" 200 -\n",
            "127.0.0.1 - - [27/Nov/2020 19:54:28] \"\u001b[37mGET /tmdb?title=toy%20story HTTP/1.1\u001b[0m\" 200 -\n",
            "127.0.0.1 - - [27/Nov/2020 19:54:44] \"\u001b[37mGET /tmdb?title=toy%20story HTTP/1.1\u001b[0m\" 200 -\n",
            "127.0.0.1 - - [27/Nov/2020 19:54:53] \"\u001b[37mGET /tmdb?title=virtuosity HTTP/1.1\u001b[0m\" 200 -\n",
            "127.0.0.1 - - [27/Nov/2020 19:55:44] \"\u001b[37mGET /tmdb?title=jumanji HTTP/1.1\u001b[0m\" 200 -\n",
            "127.0.0.1 - - [27/Nov/2020 19:56:01] \"\u001b[37mGET /tmdb?title=american%20president HTTP/1.1\u001b[0m\" 200 -\n",
            "127.0.0.1 - - [27/Nov/2020 19:56:28] \"\u001b[37mGET /tmdb?title=to%20die%20for HTTP/1.1\u001b[0m\" 200 -\n",
            "127.0.0.1 - - [27/Nov/2020 19:58:50] \"\u001b[37mGET /tmdb?title=breakfast HTTP/1.1\u001b[0m\" 200 -\n",
            "127.0.0.1 - - [27/Nov/2020 20:08:03] \"\u001b[37mGET /tmdb?title=toy%20story HTTP/1.1\u001b[0m\" 200 -\n",
            "127.0.0.1 - - [27/Nov/2020 20:08:27] \"\u001b[37mGET /tmdb?title=time HTTP/1.1\u001b[0m\" 200 -\n",
            "[2020-11-27 20:33:50,701] ERROR in app: Exception on /tmdb [GET]\n",
            "Traceback (most recent call last):\n",
            "  File \"/usr/local/lib/python3.6/dist-packages/flask/app.py\", line 2447, in wsgi_app\n",
            "    response = self.full_dispatch_request()\n",
            "  File \"/usr/local/lib/python3.6/dist-packages/flask/app.py\", line 1952, in full_dispatch_request\n",
            "    rv = self.handle_user_exception(e)\n",
            "  File \"/usr/local/lib/python3.6/dist-packages/flask/app.py\", line 1821, in handle_user_exception\n",
            "    reraise(exc_type, exc_value, tb)\n",
            "  File \"/usr/local/lib/python3.6/dist-packages/flask/_compat.py\", line 39, in reraise\n",
            "    raise value\n",
            "  File \"/usr/local/lib/python3.6/dist-packages/flask/app.py\", line 1950, in full_dispatch_request\n",
            "    rv = self.dispatch_request()\n",
            "  File \"/usr/local/lib/python3.6/dist-packages/flask/app.py\", line 1936, in dispatch_request\n",
            "    return self.view_functions[rule.endpoint](**req.view_args)\n",
            "  File \"<ipython-input-22-0b35d14ccbaf>\", line 58, in tmdb_call\n",
            "    movie_id = movies_list_id.loc[movies_list_id.index.str.contains(movie_name)][0]\n",
            "  File \"/usr/local/lib/python3.6/dist-packages/pandas/core/series.py\", line 879, in __getitem__\n",
            "    return self._values[key]\n",
            "IndexError: index 0 is out of bounds for axis 0 with size 0\n",
            "127.0.0.1 - - [27/Nov/2020 20:33:50] \"\u001b[35m\u001b[1mGET /tmdb?title=fifty HTTP/1.1\u001b[0m\" 500 -\n",
            "127.0.0.1 - - [27/Nov/2020 20:34:09] \"\u001b[37mGET /tmdb?title=dragon HTTP/1.1\u001b[0m\" 200 -\n",
            "[2020-11-27 20:34:43,522] ERROR in app: Exception on /tmdb [GET]\n",
            "Traceback (most recent call last):\n",
            "  File \"/usr/local/lib/python3.6/dist-packages/flask/app.py\", line 2447, in wsgi_app\n",
            "    response = self.full_dispatch_request()\n",
            "  File \"/usr/local/lib/python3.6/dist-packages/flask/app.py\", line 1952, in full_dispatch_request\n",
            "    rv = self.handle_user_exception(e)\n",
            "  File \"/usr/local/lib/python3.6/dist-packages/flask/app.py\", line 1821, in handle_user_exception\n",
            "    reraise(exc_type, exc_value, tb)\n",
            "  File \"/usr/local/lib/python3.6/dist-packages/flask/_compat.py\", line 39, in reraise\n",
            "    raise value\n",
            "  File \"/usr/local/lib/python3.6/dist-packages/flask/app.py\", line 1950, in full_dispatch_request\n",
            "    rv = self.dispatch_request()\n",
            "  File \"/usr/local/lib/python3.6/dist-packages/flask/app.py\", line 1936, in dispatch_request\n",
            "    return self.view_functions[rule.endpoint](**req.view_args)\n",
            "  File \"<ipython-input-22-0b35d14ccbaf>\", line 58, in tmdb_call\n",
            "    movie_id = movies_list_id.loc[movies_list_id.index.str.contains(movie_name)][0]\n",
            "  File \"/usr/local/lib/python3.6/dist-packages/pandas/core/series.py\", line 879, in __getitem__\n",
            "    return self._values[key]\n",
            "IndexError: index 0 is out of bounds for axis 0 with size 0\n",
            "127.0.0.1 - - [27/Nov/2020 20:34:43] \"\u001b[35m\u001b[1mGET /tmdb?title=five%20feet HTTP/1.1\u001b[0m\" 500 -\n"
          ],
          "name": "stderr"
        }
      ]
    }
  ]
}