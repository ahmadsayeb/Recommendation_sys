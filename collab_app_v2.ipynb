{
  "nbformat": 4,
  "nbformat_minor": 0,
  "metadata": {
    "colab": {
      "name": "flask_app_collab_rec_v2.ipynb",
      "provenance": []
    },
    "kernelspec": {
      "name": "python3",
      "display_name": "Python 3"
    }
  },
  "cells": [
    {
      "cell_type": "code",
      "metadata": {
        "colab": {
          "base_uri": "https://localhost:8080/"
        },
        "id": "i1ofpouY3jKh",
        "outputId": "796b29ba-4bde-4805-b378-739893f75fda"
      },
      "source": [
        "!pip install flask-ngrok"
      ],
      "execution_count": 16,
      "outputs": [
        {
          "output_type": "stream",
          "text": [
            "Requirement already satisfied: flask-ngrok in /usr/local/lib/python3.6/dist-packages (0.0.25)\n",
            "Requirement already satisfied: requests in /usr/local/lib/python3.6/dist-packages (from flask-ngrok) (2.23.0)\n",
            "Requirement already satisfied: Flask>=0.8 in /usr/local/lib/python3.6/dist-packages (from flask-ngrok) (1.1.2)\n",
            "Requirement already satisfied: urllib3!=1.25.0,!=1.25.1,<1.26,>=1.21.1 in /usr/local/lib/python3.6/dist-packages (from requests->flask-ngrok) (1.24.3)\n",
            "Requirement already satisfied: chardet<4,>=3.0.2 in /usr/local/lib/python3.6/dist-packages (from requests->flask-ngrok) (3.0.4)\n",
            "Requirement already satisfied: idna<3,>=2.5 in /usr/local/lib/python3.6/dist-packages (from requests->flask-ngrok) (2.10)\n",
            "Requirement already satisfied: certifi>=2017.4.17 in /usr/local/lib/python3.6/dist-packages (from requests->flask-ngrok) (2020.11.8)\n",
            "Requirement already satisfied: Jinja2>=2.10.1 in /usr/local/lib/python3.6/dist-packages (from Flask>=0.8->flask-ngrok) (2.11.2)\n",
            "Requirement already satisfied: click>=5.1 in /usr/local/lib/python3.6/dist-packages (from Flask>=0.8->flask-ngrok) (7.1.2)\n",
            "Requirement already satisfied: itsdangerous>=0.24 in /usr/local/lib/python3.6/dist-packages (from Flask>=0.8->flask-ngrok) (1.1.0)\n",
            "Requirement already satisfied: Werkzeug>=0.15 in /usr/local/lib/python3.6/dist-packages (from Flask>=0.8->flask-ngrok) (1.0.1)\n",
            "Requirement already satisfied: MarkupSafe>=0.23 in /usr/local/lib/python3.6/dist-packages (from Jinja2>=2.10.1->Flask>=0.8->flask-ngrok) (1.1.1)\n"
          ],
          "name": "stdout"
        }
      ]
    },
    {
      "cell_type": "code",
      "metadata": {
        "colab": {
          "base_uri": "https://localhost:8080/"
        },
        "id": "t6izNiNW9L9N",
        "outputId": "e64de936-6922-405e-e456-736d86736767"
      },
      "source": [
        "!pip install surprise"
      ],
      "execution_count": 17,
      "outputs": [
        {
          "output_type": "stream",
          "text": [
            "Requirement already satisfied: surprise in /usr/local/lib/python3.6/dist-packages (0.1)\n",
            "Requirement already satisfied: scikit-surprise in /usr/local/lib/python3.6/dist-packages (from surprise) (1.1.1)\n",
            "Requirement already satisfied: six>=1.10.0 in /usr/local/lib/python3.6/dist-packages (from scikit-surprise->surprise) (1.15.0)\n",
            "Requirement already satisfied: numpy>=1.11.2 in /usr/local/lib/python3.6/dist-packages (from scikit-surprise->surprise) (1.18.5)\n",
            "Requirement already satisfied: scipy>=1.0.0 in /usr/local/lib/python3.6/dist-packages (from scikit-surprise->surprise) (1.4.1)\n",
            "Requirement already satisfied: joblib>=0.11 in /usr/local/lib/python3.6/dist-packages (from scikit-surprise->surprise) (0.17.0)\n"
          ],
          "name": "stdout"
        }
      ]
    },
    {
      "cell_type": "code",
      "metadata": {
        "id": "cofljbt09Oal"
      },
      "source": [
        "import pandas as pd\n",
        "import pickle\n",
        "import requests\n",
        "import json\n",
        "from flask import Flask, request, jsonify\n",
        "import surprise\n",
        "from flask_ngrok import run_with_ngrok\n",
        "from flask import Flask\n",
        "import re"
      ],
      "execution_count": 20,
      "outputs": []
    },
    {
      "cell_type": "code",
      "metadata": {
        "id": "D_GpkLFRCzdc"
      },
      "source": [
        "def string_preprocess(row):\n",
        "  text = row\n",
        "  text = str(text)\n",
        "  text = re.sub(r'\\(\\d+\\)', '', text)\n",
        "  text = text.lower()\n",
        "  return text"
      ],
      "execution_count": 21,
      "outputs": []
    },
    {
      "cell_type": "code",
      "metadata": {
        "id": "FocraZMrC1_1"
      },
      "source": [
        ""
      ],
      "execution_count": null,
      "outputs": []
    },
    {
      "cell_type": "code",
      "metadata": {
        "colab": {
          "base_uri": "https://localhost:8080/"
        },
        "id": "Q9c-usfz9NXN",
        "outputId": "12ab061b-aa9c-4c62-e021-2cfa84f3ff74"
      },
      "source": [
        "app = Flask(__name__)\n",
        "run_with_ngrok(app)\n",
        "movie_df = pd.read_csv('/content/drive/MyDrive/Colab Notebooks/movie_lens/movie.csv')\n",
        "rating_df = pd.read_csv('/content/drive/MyDrive/Colab Notebooks/movie_lens/rating.csv')\n",
        "\n",
        "combined_small = pd.read_csv('/content/drive/MyDrive/Colab Notebooks/movie_lens/combined_small.csv')\n",
        "model = surprise.dump.load('/content/drive/MyDrive/Colab Notebooks/movie_lens/my_model_v2')\n",
        "predictions = model[0]\n",
        "print(predictions[0])\n",
        "#create index item name and value item id series\n",
        "movie_rating_combined = pd.merge(movie_df,rating_df,on='movieId')\n",
        "movie_info_small = movie_rating_combined.iloc[:5000000]\n",
        "movie_info_small['title'] = movie_info_small['title'].apply(string_preprocess)\n",
        "movies_list_id = pd.Series(movie_info_small['movieId'].unique(),\n",
        "                            index=movie_info_small['title'].unique())\n",
        "\n",
        "\n",
        "@app.route('/api',methods=['GET'])\n",
        "def get_api_recommendation():\n",
        "  item_id = []\n",
        "  movie_name = request.args.get('title')\n",
        "  print('-------------------------->',movie_name)\n",
        "  movie_id = movies_list_id.loc[movies_list_id.index == movie_name][0]\n",
        "  user_id = combined_small.loc[combined_small.item == movie_id]['user'].tolist()[:5]\n",
        "  print('useeeeeeeeeeeeer:',user_id)\n",
        "  for id in user_id:\n",
        "    for i in range(len(predictions)):\n",
        "      if predictions[i].uid == id:\n",
        "        print(\"--------------------> I am inside if\",predictions[i])\n",
        "        item_id.append(predictions[i].iid)\n",
        "  movies_names = movies_list_id.loc[movies_list_id.isin(item_id)].index.tolist()[:5]\n",
        "  return jsonify(movies_names)\n",
        "\n",
        "@app.route('/movie',methods=['GET'])\n",
        "def get_movies_recommendation():\n",
        "  movie_name = request.args.get('title')\n",
        "  movie_name = movie_name.lower()\n",
        "  item_id = []\n",
        "  rating = []\n",
        "  movie_id = movies_list_id.loc[movies_list_id.index.str.contains(movie_name)][0]\n",
        "  user_id = combined_small.loc[combined_small.item == movie_id]['user'].tolist()[:5]\n",
        "  for id in user_id:\n",
        "    for i in range(len(predictions)):\n",
        "      if predictions[i].uid == id:\n",
        "        item_id.append(predictions[i].iid)\n",
        "        rating.append(predictions[i].est)\n",
        "  movies_names = movies_list_id.loc[movies_list_id.isin(item_id)].index.tolist()[:5]\n",
        "  for names in movies_names:\n",
        "    if names.strip() == movie_name:\n",
        "      movies_names.remove(names)\n",
        "      movies_names.append(movies_list_id.loc[movies_list_id.isin(item_id)].index.tolist()[6])\n",
        "  final = dict(zip(movies_names,rating))\n",
        "  return jsonify(final)\n",
        "\n",
        "if __name__=='__main__':\n",
        "    app.run()\n",
        "    "
      ],
      "execution_count": 23,
      "outputs": [
        {
          "output_type": "stream",
          "text": [
            "user: 26572      item: 36         r_ui = 4.00   est = 3.31   {'was_impossible': False}\n"
          ],
          "name": "stdout"
        },
        {
          "output_type": "stream",
          "text": [
            "/usr/local/lib/python3.6/dist-packages/ipykernel_launcher.py:13: SettingWithCopyWarning: \n",
            "A value is trying to be set on a copy of a slice from a DataFrame.\n",
            "Try using .loc[row_indexer,col_indexer] = value instead\n",
            "\n",
            "See the caveats in the documentation: https://pandas.pydata.org/pandas-docs/stable/user_guide/indexing.html#returning-a-view-versus-a-copy\n",
            "  del sys.path[0]\n"
          ],
          "name": "stderr"
        },
        {
          "output_type": "stream",
          "text": [
            " * Serving Flask app \"__main__\" (lazy loading)\n",
            " * Environment: production\n",
            "\u001b[31m   WARNING: This is a development server. Do not use it in a production deployment.\u001b[0m\n",
            "\u001b[2m   Use a production WSGI server instead.\u001b[0m\n",
            " * Debug mode: off\n"
          ],
          "name": "stdout"
        },
        {
          "output_type": "stream",
          "text": [
            " * Running on http://127.0.0.1:5000/ (Press CTRL+C to quit)\n"
          ],
          "name": "stderr"
        },
        {
          "output_type": "stream",
          "text": [
            " * Running on http://ec468098cb6a.ngrok.io\n",
            " * Traffic stats available on http://127.0.0.1:4040\n"
          ],
          "name": "stdout"
        },
        {
          "output_type": "stream",
          "text": [
            "127.0.0.1 - - [26/Nov/2020 20:56:05] \"\u001b[37mGET /movie?title=goldeneye HTTP/1.1\u001b[0m\" 200 -\n"
          ],
          "name": "stderr"
        }
      ]
    }
  ]
}